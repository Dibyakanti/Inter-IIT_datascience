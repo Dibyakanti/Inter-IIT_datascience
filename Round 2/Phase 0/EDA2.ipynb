{
 "cells": [
  {
   "cell_type": "code",
   "execution_count": 109,
   "metadata": {},
   "outputs": [],
   "source": [
    "import pandas as pd\n",
    "import seaborn as sns\n",
    "from matplotlib import pyplot as plt"
   ]
  },
  {
   "cell_type": "code",
   "execution_count": 110,
   "metadata": {},
   "outputs": [],
   "source": [
    "df = pd.read_excel(r\"C:\\Users\\HP\\Downloads\\Data.xlsx\", sheet_name=\"Master Apr to Mar'13\")\n",
    "new_header = df.iloc[0] #grab the first row for the header\n",
    "df = df[1:] #take the data less the header row\n",
    "df.columns = new_header\n",
    "df=df.iloc[:,:19]"
   ]
  },
  {
   "cell_type": "code",
   "execution_count": 111,
   "metadata": {},
   "outputs": [],
   "source": [
    "df['Location'] = df['Location'].str.capitalize()\n",
    "df['Location']=df['Location'].str.strip()"
   ]
  },
  {
   "cell_type": "code",
   "execution_count": 112,
   "metadata": {},
   "outputs": [
    {
     "data": {
      "text/html": [
       "<div>\n",
       "<style scoped>\n",
       "    .dataframe tbody tr th:only-of-type {\n",
       "        vertical-align: middle;\n",
       "    }\n",
       "\n",
       "    .dataframe tbody tr th {\n",
       "        vertical-align: top;\n",
       "    }\n",
       "\n",
       "    .dataframe thead th {\n",
       "        text-align: right;\n",
       "    }\n",
       "</style>\n",
       "<table border=\"1\" class=\"dataframe\">\n",
       "  <thead>\n",
       "    <tr style=\"text-align: right;\">\n",
       "      <th></th>\n",
       "      <th>S.No</th>\n",
       "      <th>EmpID</th>\n",
       "      <th>Emp Name</th>\n",
       "      <th>DOJ</th>\n",
       "      <th>Designation</th>\n",
       "      <th>Grade</th>\n",
       "      <th>Attrition</th>\n",
       "      <th>Location</th>\n",
       "      <th>In Active Date</th>\n",
       "      <th>Tenure</th>\n",
       "      <th>Gender</th>\n",
       "      <th>Education</th>\n",
       "      <th>Age</th>\n",
       "      <th>Last Rating</th>\n",
       "      <th>Monthly Income</th>\n",
       "      <th>Engagement Score (% Satisfaction)</th>\n",
       "      <th>Marital Status</th>\n",
       "      <th>Zone</th>\n",
       "      <th>Remarks</th>\n",
       "    </tr>\n",
       "  </thead>\n",
       "  <tbody>\n",
       "    <tr>\n",
       "      <td>1</td>\n",
       "      <td>1</td>\n",
       "      <td>XYZ2685</td>\n",
       "      <td>ABC1</td>\n",
       "      <td>2010-11-22 00:00:00</td>\n",
       "      <td>Sales Executive</td>\n",
       "      <td>E1</td>\n",
       "      <td>Yes</td>\n",
       "      <td>Bhavnagar</td>\n",
       "      <td>2012-05-26 00:00:00</td>\n",
       "      <td>1. 6</td>\n",
       "      <td>Female</td>\n",
       "      <td>Bachelors</td>\n",
       "      <td>27</td>\n",
       "      <td>4</td>\n",
       "      <td>25535</td>\n",
       "      <td>0.0214189</td>\n",
       "      <td>Divorced</td>\n",
       "      <td>West</td>\n",
       "      <td>Issues with the Manager</td>\n",
       "    </tr>\n",
       "    <tr>\n",
       "      <td>2</td>\n",
       "      <td>2</td>\n",
       "      <td>XYZ2490</td>\n",
       "      <td>ABC2</td>\n",
       "      <td>2010-07-05 00:00:00</td>\n",
       "      <td>Technical Services Officer</td>\n",
       "      <td>M2</td>\n",
       "      <td>Yes</td>\n",
       "      <td>Jayanagar</td>\n",
       "      <td>2012-04-06 00:00:00</td>\n",
       "      <td>1. 9</td>\n",
       "      <td>Male</td>\n",
       "      <td>MBA</td>\n",
       "      <td>36</td>\n",
       "      <td>2</td>\n",
       "      <td>52155</td>\n",
       "      <td>0.448272</td>\n",
       "      <td>Single</td>\n",
       "      <td>South</td>\n",
       "      <td>More Challenging Job Roles/ Higher designation</td>\n",
       "    </tr>\n",
       "    <tr>\n",
       "      <td>3</td>\n",
       "      <td>3</td>\n",
       "      <td>XYZ2662</td>\n",
       "      <td>ABC3</td>\n",
       "      <td>2010-10-20 00:00:00</td>\n",
       "      <td>Sales Executive</td>\n",
       "      <td>E1</td>\n",
       "      <td>Yes</td>\n",
       "      <td>Indore</td>\n",
       "      <td>2012-04-07 00:00:00</td>\n",
       "      <td>1. 5</td>\n",
       "      <td>Male</td>\n",
       "      <td>Bachelors</td>\n",
       "      <td>24</td>\n",
       "      <td>4</td>\n",
       "      <td>26438</td>\n",
       "      <td>0.184461</td>\n",
       "      <td>Divorced</td>\n",
       "      <td>CENTRAL</td>\n",
       "      <td>Issues with the Manager</td>\n",
       "    </tr>\n",
       "    <tr>\n",
       "      <td>4</td>\n",
       "      <td>4</td>\n",
       "      <td>XYZ1679</td>\n",
       "      <td>ABC4</td>\n",
       "      <td>2008-05-01 00:00:00</td>\n",
       "      <td>AM - Sales</td>\n",
       "      <td>M1</td>\n",
       "      <td>Yes</td>\n",
       "      <td>Admin gujarat</td>\n",
       "      <td>2012-04-03 00:00:00</td>\n",
       "      <td>3 .11</td>\n",
       "      <td>Male</td>\n",
       "      <td>Bachelors</td>\n",
       "      <td>33</td>\n",
       "      <td>2</td>\n",
       "      <td>54311</td>\n",
       "      <td>0.818786</td>\n",
       "      <td>Single</td>\n",
       "      <td>West</td>\n",
       "      <td>Lack of Growth</td>\n",
       "    </tr>\n",
       "    <tr>\n",
       "      <td>5</td>\n",
       "      <td>5</td>\n",
       "      <td>XYZ2378</td>\n",
       "      <td>ABC5</td>\n",
       "      <td>2010-03-03 00:00:00</td>\n",
       "      <td>Sales Executive</td>\n",
       "      <td>E1</td>\n",
       "      <td>Yes</td>\n",
       "      <td>Jagdishpuram</td>\n",
       "      <td>2012-04-10 00:00:00</td>\n",
       "      <td>2 .1</td>\n",
       "      <td>Male</td>\n",
       "      <td>Bachelors</td>\n",
       "      <td>24</td>\n",
       "      <td>4</td>\n",
       "      <td>26702</td>\n",
       "      <td>0.493173</td>\n",
       "      <td>Divorced</td>\n",
       "      <td>North</td>\n",
       "      <td>Issues with the Manager</td>\n",
       "    </tr>\n",
       "    <tr>\n",
       "      <td>...</td>\n",
       "      <td>...</td>\n",
       "      <td>...</td>\n",
       "      <td>...</td>\n",
       "      <td>...</td>\n",
       "      <td>...</td>\n",
       "      <td>...</td>\n",
       "      <td>...</td>\n",
       "      <td>...</td>\n",
       "      <td>...</td>\n",
       "      <td>...</td>\n",
       "      <td>...</td>\n",
       "      <td>...</td>\n",
       "      <td>...</td>\n",
       "      <td>...</td>\n",
       "      <td>...</td>\n",
       "      <td>...</td>\n",
       "      <td>...</td>\n",
       "      <td>...</td>\n",
       "      <td>...</td>\n",
       "    </tr>\n",
       "    <tr>\n",
       "      <td>323</td>\n",
       "      <td>323</td>\n",
       "      <td>XYZ1538</td>\n",
       "      <td>ABC323</td>\n",
       "      <td>2008-05-26 00:00:00</td>\n",
       "      <td>AM - Sales</td>\n",
       "      <td>M1</td>\n",
       "      <td>Yes</td>\n",
       "      <td>Guntur</td>\n",
       "      <td>2013-03-15 00:00:00</td>\n",
       "      <td>4 .9</td>\n",
       "      <td>Male</td>\n",
       "      <td>Bachelors</td>\n",
       "      <td>37</td>\n",
       "      <td>2</td>\n",
       "      <td>53841</td>\n",
       "      <td>0.686943</td>\n",
       "      <td>Divorced</td>\n",
       "      <td>South</td>\n",
       "      <td>Lack of Growth</td>\n",
       "    </tr>\n",
       "    <tr>\n",
       "      <td>324</td>\n",
       "      <td>324</td>\n",
       "      <td>XYZ3221</td>\n",
       "      <td>ABC324</td>\n",
       "      <td>2012-09-13 00:00:00</td>\n",
       "      <td>Sales Executive</td>\n",
       "      <td>E1</td>\n",
       "      <td>Yes</td>\n",
       "      <td>Guntur</td>\n",
       "      <td>2013-03-07 00:00:00</td>\n",
       "      <td>0. 5</td>\n",
       "      <td>Male</td>\n",
       "      <td>Bachelors</td>\n",
       "      <td>25</td>\n",
       "      <td>3</td>\n",
       "      <td>25813</td>\n",
       "      <td>0.109362</td>\n",
       "      <td>Married</td>\n",
       "      <td>South</td>\n",
       "      <td>Lack of Growth</td>\n",
       "    </tr>\n",
       "    <tr>\n",
       "      <td>325</td>\n",
       "      <td>325</td>\n",
       "      <td>XYZ0207</td>\n",
       "      <td>ABC325</td>\n",
       "      <td>2005-12-12 00:00:00</td>\n",
       "      <td>Sr Sales Executive</td>\n",
       "      <td>E2</td>\n",
       "      <td>Yes</td>\n",
       "      <td>Guntur</td>\n",
       "      <td>2013-03-12 00:00:00</td>\n",
       "      <td>7 .3</td>\n",
       "      <td>Male</td>\n",
       "      <td>Bachelors</td>\n",
       "      <td>28</td>\n",
       "      <td>1</td>\n",
       "      <td>36498</td>\n",
       "      <td>0.114816</td>\n",
       "      <td>Divorced</td>\n",
       "      <td>South</td>\n",
       "      <td>Lack of Growth</td>\n",
       "    </tr>\n",
       "    <tr>\n",
       "      <td>326</td>\n",
       "      <td>326</td>\n",
       "      <td>XYZ0183</td>\n",
       "      <td>ABC326</td>\n",
       "      <td>2004-07-21 00:00:00</td>\n",
       "      <td>AM - Sales</td>\n",
       "      <td>M1</td>\n",
       "      <td>Yes</td>\n",
       "      <td>Guntur</td>\n",
       "      <td>2013-03-31 00:00:00</td>\n",
       "      <td>8 .8</td>\n",
       "      <td>Male</td>\n",
       "      <td>Bachelors</td>\n",
       "      <td>36</td>\n",
       "      <td>3</td>\n",
       "      <td>51796</td>\n",
       "      <td>0.824147</td>\n",
       "      <td>Divorced</td>\n",
       "      <td>South</td>\n",
       "      <td>Termination - Poor Performance</td>\n",
       "    </tr>\n",
       "    <tr>\n",
       "      <td>327</td>\n",
       "      <td>327</td>\n",
       "      <td>XYZ3381</td>\n",
       "      <td>ABC327</td>\n",
       "      <td>2013-02-22 00:00:00</td>\n",
       "      <td>Sales Executive</td>\n",
       "      <td>E1</td>\n",
       "      <td>Yes</td>\n",
       "      <td>Hinoo</td>\n",
       "      <td>2013-03-08 00:00:00</td>\n",
       "      <td>0. 0</td>\n",
       "      <td>Male</td>\n",
       "      <td>Bachelors</td>\n",
       "      <td>27</td>\n",
       "      <td>4</td>\n",
       "      <td>26678</td>\n",
       "      <td>0.485262</td>\n",
       "      <td>Divorced</td>\n",
       "      <td>East</td>\n",
       "      <td>Issues with the Manager</td>\n",
       "    </tr>\n",
       "  </tbody>\n",
       "</table>\n",
       "<p>327 rows × 19 columns</p>\n",
       "</div>"
      ],
      "text/plain": [
       "0   S.No    EmpID Emp Name                  DOJ                 Designation  \\\n",
       "1      1  XYZ2685     ABC1  2010-11-22 00:00:00             Sales Executive   \n",
       "2      2  XYZ2490     ABC2  2010-07-05 00:00:00  Technical Services Officer   \n",
       "3      3  XYZ2662     ABC3  2010-10-20 00:00:00             Sales Executive   \n",
       "4      4  XYZ1679     ABC4  2008-05-01 00:00:00                  AM - Sales   \n",
       "5      5  XYZ2378     ABC5  2010-03-03 00:00:00            Sales Executive    \n",
       "..   ...      ...      ...                  ...                         ...   \n",
       "323  323  XYZ1538   ABC323  2008-05-26 00:00:00                  AM - Sales   \n",
       "324  324  XYZ3221   ABC324  2012-09-13 00:00:00             Sales Executive   \n",
       "325  325  XYZ0207   ABC325  2005-12-12 00:00:00          Sr Sales Executive   \n",
       "326  326  XYZ0183   ABC326  2004-07-21 00:00:00                  AM - Sales   \n",
       "327  327  XYZ3381   ABC327  2013-02-22 00:00:00             Sales Executive   \n",
       "\n",
       "0   Grade Attrition        Location       In Active Date  Tenure  Gender  \\\n",
       "1      E1        Yes      Bhavnagar  2012-05-26 00:00:00   1. 6   Female   \n",
       "2      M2        Yes      Jayanagar  2012-04-06 00:00:00   1. 9     Male   \n",
       "3      E1        Yes         Indore  2012-04-07 00:00:00   1. 5     Male   \n",
       "4      M1        Yes  Admin gujarat  2012-04-03 00:00:00  3 .11     Male   \n",
       "5      E1        Yes   Jagdishpuram  2012-04-10 00:00:00   2 .1     Male   \n",
       "..    ...        ...            ...                  ...     ...     ...   \n",
       "323    M1        Yes         Guntur  2013-03-15 00:00:00   4 .9     Male   \n",
       "324    E1        Yes         Guntur  2013-03-07 00:00:00   0. 5     Male   \n",
       "325    E2        Yes         Guntur  2013-03-12 00:00:00   7 .3     Male   \n",
       "326    M1        Yes         Guntur  2013-03-31 00:00:00   8 .8     Male   \n",
       "327    E1        Yes          Hinoo  2013-03-08 00:00:00   0. 0     Male   \n",
       "\n",
       "0    Education Age Last Rating Monthly Income  \\\n",
       "1    Bachelors  27           4          25535   \n",
       "2          MBA  36           2          52155   \n",
       "3    Bachelors  24           4          26438   \n",
       "4    Bachelors  33           2          54311   \n",
       "5    Bachelors  24           4          26702   \n",
       "..         ...  ..         ...            ...   \n",
       "323  Bachelors  37           2          53841   \n",
       "324  Bachelors  25           3          25813   \n",
       "325  Bachelors  28           1          36498   \n",
       "326  Bachelors  36           3          51796   \n",
       "327  Bachelors  27           4          26678   \n",
       "\n",
       "0   Engagement Score (% Satisfaction) Marital Status     Zone  \\\n",
       "1                           0.0214189       Divorced     West   \n",
       "2                            0.448272        Single     South   \n",
       "3                            0.184461       Divorced  CENTRAL   \n",
       "4                            0.818786        Single      West   \n",
       "5                            0.493173       Divorced    North   \n",
       "..                                ...            ...      ...   \n",
       "323                          0.686943       Divorced    South   \n",
       "324                          0.109362        Married    South   \n",
       "325                          0.114816       Divorced    South   \n",
       "326                          0.824147       Divorced    South   \n",
       "327                          0.485262       Divorced     East   \n",
       "\n",
       "0                                           Remarks  \n",
       "1                           Issues with the Manager  \n",
       "2    More Challenging Job Roles/ Higher designation  \n",
       "3                           Issues with the Manager  \n",
       "4                                    Lack of Growth  \n",
       "5                           Issues with the Manager  \n",
       "..                                              ...  \n",
       "323                                  Lack of Growth  \n",
       "324                                  Lack of Growth  \n",
       "325                                  Lack of Growth  \n",
       "326                  Termination - Poor Performance  \n",
       "327                         Issues with the Manager  \n",
       "\n",
       "[327 rows x 19 columns]"
      ]
     },
     "execution_count": 112,
     "metadata": {},
     "output_type": "execute_result"
    }
   ],
   "source": [
    "df"
   ]
  },
  {
   "cell_type": "code",
   "execution_count": 113,
   "metadata": {},
   "outputs": [
    {
     "name": "stdout",
     "output_type": "stream",
     "text": [
      "Trivandrum               18\n",
      "Ho hyderabad             10\n",
      "Rajamundry                9\n",
      "Vizag                     9\n",
      "Vijaywada                 9\n",
      "Velachery                 8\n",
      "Madurai                   8\n",
      "Ho                        7\n",
      "Hinoo                     6\n",
      "Cuttack                   5\n",
      "Sultanpur                 5\n",
      "Koyambedu                 5\n",
      "Patiala                   4\n",
      "Indore                    4\n",
      "Bhavnagar                 4\n",
      "Balasore                  4\n",
      "Loni                      4\n",
      "Kalyan                    4\n",
      "Siliguri                  4\n",
      "Gurukul                   4\n",
      "Guntur                    4\n",
      "Allahabad                 4\n",
      "Varanasi                  4\n",
      "Dehradun                  4\n",
      "Lalpur                    3\n",
      "Vellore                   3\n",
      "Zo delhi                  3\n",
      "Gondal                    3\n",
      "Pune                      3\n",
      "Rohini                    3\n",
      "Kanpur                    3\n",
      "Jammu                     3\n",
      "Bally                     3\n",
      "Jhansi                    3\n",
      "Gurubuxganj               3\n",
      "Hanuman nagar             3\n",
      "Badarpur                  3\n",
      "Barrackpore               3\n",
      "Jagdishpuram              3\n",
      "Kozhikode                 3\n",
      "Kalewadi                  2\n",
      "Behala                    2\n",
      "Badlapur                  2\n",
      "Bachrawan                 2\n",
      "Mysore                    2\n",
      "Raipur                    2\n",
      "Thallakulam               2\n",
      "Agra                      2\n",
      "Mithapur                  2\n",
      "Zo mumbai                 2\n",
      "Shahpura                  2\n",
      "Trichy                    2\n",
      "Mandi                     2\n",
      "Devenahalli               2\n",
      "Puri                      2\n",
      "Kasidih                   2\n",
      "Jaipur                    2\n",
      "Amritsar                  2\n",
      "Dumdum                    2\n",
      "Jagatpur                  2\n",
      "Vyara                     2\n",
      "Nasik                     2\n",
      "Jalandhar                 2\n",
      "Kolkata                   2\n",
      "Haldwani                  2\n",
      "Vadodara                  2\n",
      "Mukundpur                 2\n",
      "Anand                     2\n",
      "Chennai                   2\n",
      "Garia                     2\n",
      "Bhubaneswar               2\n",
      "Unchahar                  2\n",
      "Rajkot                    2\n",
      "Bbsr                      2\n",
      "Jayanagar                 2\n",
      "Ahmedabad                 2\n",
      "Coimbatore                2\n",
      "Vasai                     2\n",
      "Admin gujarat             1\n",
      "Alok nagar                1\n",
      "Trissur                   1\n",
      "Bangalore                 1\n",
      "Vasna                     1\n",
      "Ameethi                   1\n",
      "Najafgarh                 1\n",
      "Sinahagad                 1\n",
      "Kangra                    1\n",
      "Tilak vihar               1\n",
      "Madurai (thallakulam)     1\n",
      "Indrapuri                 1\n",
      "Jagdispuram               1\n",
      "Bhopal indrapuri          1\n",
      "Hadspar                   1\n",
      "Kolkatta                  1\n",
      "Haridwar                  1\n",
      "Anand (vadodara ext)      1\n",
      "Madurai - thallakulam     1\n",
      "Vijay vihar               1\n",
      "Bandel                    1\n",
      "Delhi                     1\n",
      "Kodinar (gondal ext)      1\n",
      "Orissa                    1\n",
      "Kotra                     1\n",
      "Admin delhi               1\n",
      "Admin maharastra          1\n",
      "Udaipur                   1\n",
      "Pondicherry               1\n",
      "Lalganj                   1\n",
      "Durg                      1\n",
      "Danapur                   1\n",
      "Bilaspur                  1\n",
      "Hadapsar (pune)           1\n",
      "Salt lake                 1\n",
      "Kashidih                  1\n",
      "Avadi                     1\n",
      "Thrissur                  1\n",
      "Navapur (vyara ext)       1\n",
      "Sonipat                   1\n",
      "Admin jharkhand           1\n",
      "Hadapsar                  1\n",
      "Zo kolkata                1\n",
      "Shapura                   1\n",
      "Barasat                   1\n",
      "Koramangala               1\n",
      "Jabalpur alok nagar       1\n",
      "Daund                     1\n",
      "Trombay                   1\n",
      "Santhome                  1\n",
      "Magadi road               1\n",
      "Shimla                    1\n",
      "Lambhua                   1\n",
      "Anand (ext vadodara)      1\n",
      "Name: Location, dtype: int64\n"
     ]
    }
   ],
   "source": [
    "a=df.Location.value_counts()\n",
    "with pd.option_context('display.max_rows', None, 'display.max_columns', None):  # more options can be specified also\n",
    "    print(a)\n"
   ]
  },
  {
   "cell_type": "code",
   "execution_count": 114,
   "metadata": {},
   "outputs": [],
   "source": [
    "df['Location']=df['Location'].replace(['Madurai - thallakulam'], 'Madhurai')"
   ]
  },
  {
   "cell_type": "code",
   "execution_count": 115,
   "metadata": {},
   "outputs": [],
   "source": [
    "df['Location']=df['Location'].replace(['Anand (ext vadodara)'], 'Anand (vadodara ext)')"
   ]
  },
  {
   "cell_type": "code",
   "execution_count": 116,
   "metadata": {},
   "outputs": [
    {
     "data": {
      "text/plain": [
       "131"
      ]
     },
     "execution_count": 116,
     "metadata": {},
     "output_type": "execute_result"
    }
   ],
   "source": [
    "df.Location.nunique()"
   ]
  },
  {
   "cell_type": "markdown",
   "metadata": {},
   "source": [
    "The company has approximately 131 offices in India, with an average of 2.5 attritions per office."
   ]
  },
  {
   "cell_type": "markdown",
   "metadata": {},
   "source": [
    "The 7 locations with the highest Attrition are from the south zone."
   ]
  },
  {
   "cell_type": "code",
   "execution_count": 118,
   "metadata": {},
   "outputs": [],
   "source": [
    "df.Zone=df.Zone.str.capitalize()"
   ]
  },
  {
   "cell_type": "code",
   "execution_count": 119,
   "metadata": {},
   "outputs": [
    {
     "data": {
      "text/plain": [
       "South      100\n",
       "North       72\n",
       "East        58\n",
       "West        51\n",
       "Central     29\n",
       "Ho          17\n",
       "Name: Zone, dtype: int64"
      ]
     },
     "execution_count": 119,
     "metadata": {},
     "output_type": "execute_result"
    }
   ],
   "source": [
    "df.Zone.value_counts()"
   ]
  },
  {
   "cell_type": "code",
   "execution_count": 120,
   "metadata": {},
   "outputs": [
    {
     "data": {
      "text/plain": [
       "array(['West', 'South', 'Central', 'North', 'East', 'Ho'], dtype=object)"
      ]
     },
     "execution_count": 120,
     "metadata": {},
     "output_type": "execute_result"
    }
   ],
   "source": [
    "df.Zone.unique()"
   ]
  },
  {
   "cell_type": "markdown",
   "metadata": {},
   "source": [
    "South zone has highest attrition per office rate of 3.7(27 offices). Second comes East with 2.32(25 offices). Third is North with 2(36 offices). Fourth is Central with 1.93(Just 15 offices). And the least attrition in West zone with 1.88 attritions per office(27 offices.)"
   ]
  },
  {
   "cell_type": "markdown",
   "metadata": {},
   "source": [
    "Overall maximum attritions are from the south zone. "
   ]
  },
  {
   "cell_type": "markdown",
   "metadata": {},
   "source": [
    "According to a survey, companies located in the southern cities of Bangalore, Hyderabad and Chennai are finding it difficult to hold on to their young employees as attrition levels in these cities stood at 15%--- the highest in the country during the last twelve months.\n",
    "\n",
    "Read more at:\n",
    "//economictimes.indiatimes.com/articleshow/9200217.cms?utm_source=contentofinterest&utm_medium=text&utm_campaign=cppst"
   ]
  },
  {
   "cell_type": "code",
   "execution_count": 121,
   "metadata": {},
   "outputs": [
    {
     "name": "stdout",
     "output_type": "stream",
     "text": [
      "27\n",
      "1.8888888888888888\n",
      "27\n",
      "3.7037037037037037\n",
      "15\n",
      "1.9333333333333333\n",
      "36\n",
      "2.0\n",
      "25\n",
      "2.32\n",
      "2\n",
      "8.5\n"
     ]
    }
   ],
   "source": [
    "for i in df.Zone.unique():     #finding attrition per office in various zones\n",
    "    temp=df.loc[df.Zone==i]\n",
    "    a=temp.Location.nunique()\n",
    "    print(a)\n",
    "    print(len(temp)/a)\n",
    "    \n"
   ]
  },
  {
   "cell_type": "code",
   "execution_count": 122,
   "metadata": {},
   "outputs": [
    {
     "data": {
      "text/plain": [
       "Sales Executive               11\n",
       "Technical Services Officer     4\n",
       "Sr Sales Executive             1\n",
       "Sr Sales Executive             1\n",
       "Sales Executive                1\n",
       "Name: Designation, dtype: int64"
      ]
     },
     "execution_count": 122,
     "metadata": {},
     "output_type": "execute_result"
    }
   ],
   "source": [
    "df.loc[df.Location=='Trivandrum'].Designation.value_counts()"
   ]
  },
  {
   "cell_type": "code",
   "execution_count": 123,
   "metadata": {},
   "outputs": [
    {
     "data": {
      "text/plain": [
       "Issues with the Manager                           11\n",
       "Lack of Growth                                     4\n",
       "More Challenging Job Roles/ Higher designation     3\n",
       "Name: Remarks, dtype: int64"
      ]
     },
     "execution_count": 123,
     "metadata": {},
     "output_type": "execute_result"
    }
   ],
   "source": [
    "df.loc[df.Location=='Trivandrum'].Remarks.value_counts()"
   ]
  },
  {
   "cell_type": "markdown",
   "metadata": {},
   "source": [
    "81% of the sales execs have reported Issues with the manager as their reason for attrition. It is reccommended that the company look into this and question the administrative staff at Trivandrum."
   ]
  },
  {
   "cell_type": "code",
   "execution_count": 124,
   "metadata": {},
   "outputs": [],
   "source": [
    "df['Designation']=df['Designation'].str.strip()\n",
    "f=pd.DataFrame(index=df.Designation.unique(),columns=df.Zone.unique())\n",
    "h=df.Zone.unique()\n",
    "l=df.Designation.unique()\n",
    "\n",
    "for i in range(7):\n",
    "    temp=df.loc[df.Designation==l[i]]\n",
    "    for j in range(6):\n",
    "        temp1=temp.loc[temp.Zone==h[j]]\n",
    "        f.iloc[[i],[j]]=len(temp1)"
   ]
  },
  {
   "cell_type": "code",
   "execution_count": 125,
   "metadata": {},
   "outputs": [
    {
     "data": {
      "text/html": [
       "<div>\n",
       "<style scoped>\n",
       "    .dataframe tbody tr th:only-of-type {\n",
       "        vertical-align: middle;\n",
       "    }\n",
       "\n",
       "    .dataframe tbody tr th {\n",
       "        vertical-align: top;\n",
       "    }\n",
       "\n",
       "    .dataframe thead th {\n",
       "        text-align: right;\n",
       "    }\n",
       "</style>\n",
       "<table border=\"1\" class=\"dataframe\">\n",
       "  <thead>\n",
       "    <tr style=\"text-align: right;\">\n",
       "      <th></th>\n",
       "      <th>West</th>\n",
       "      <th>South</th>\n",
       "      <th>Central</th>\n",
       "      <th>North</th>\n",
       "      <th>East</th>\n",
       "      <th>Ho</th>\n",
       "    </tr>\n",
       "  </thead>\n",
       "  <tbody>\n",
       "    <tr>\n",
       "      <td>Sales Executive</td>\n",
       "      <td>35</td>\n",
       "      <td>69</td>\n",
       "      <td>23</td>\n",
       "      <td>61</td>\n",
       "      <td>45</td>\n",
       "      <td>2</td>\n",
       "    </tr>\n",
       "    <tr>\n",
       "      <td>Technical Services Officer</td>\n",
       "      <td>7</td>\n",
       "      <td>15</td>\n",
       "      <td>2</td>\n",
       "      <td>1</td>\n",
       "      <td>2</td>\n",
       "      <td>0</td>\n",
       "    </tr>\n",
       "    <tr>\n",
       "      <td>AM - Sales</td>\n",
       "      <td>4</td>\n",
       "      <td>6</td>\n",
       "      <td>3</td>\n",
       "      <td>4</td>\n",
       "      <td>2</td>\n",
       "      <td>3</td>\n",
       "    </tr>\n",
       "    <tr>\n",
       "      <td>Sr Sales Executive</td>\n",
       "      <td>5</td>\n",
       "      <td>9</td>\n",
       "      <td>1</td>\n",
       "      <td>6</td>\n",
       "      <td>9</td>\n",
       "      <td>4</td>\n",
       "    </tr>\n",
       "    <tr>\n",
       "      <td>Regional Manager</td>\n",
       "      <td>0</td>\n",
       "      <td>0</td>\n",
       "      <td>0</td>\n",
       "      <td>0</td>\n",
       "      <td>0</td>\n",
       "      <td>5</td>\n",
       "    </tr>\n",
       "    <tr>\n",
       "      <td>Zonal Manager</td>\n",
       "      <td>0</td>\n",
       "      <td>1</td>\n",
       "      <td>0</td>\n",
       "      <td>0</td>\n",
       "      <td>0</td>\n",
       "      <td>2</td>\n",
       "    </tr>\n",
       "    <tr>\n",
       "      <td>National Sales Head</td>\n",
       "      <td>0</td>\n",
       "      <td>0</td>\n",
       "      <td>0</td>\n",
       "      <td>0</td>\n",
       "      <td>0</td>\n",
       "      <td>1</td>\n",
       "    </tr>\n",
       "  </tbody>\n",
       "</table>\n",
       "</div>"
      ],
      "text/plain": [
       "                            West  South  Central  North  East  Ho\n",
       "Sales Executive               35     69       23     61    45   2\n",
       "Technical Services Officer     7     15        2      1     2   0\n",
       "AM - Sales                     4      6        3      4     2   3\n",
       "Sr Sales Executive             5      9        1      6     9   4\n",
       "Regional Manager               0      0        0      0     0   5\n",
       "Zonal Manager                  0      1        0      0     0   2\n",
       "National Sales Head            0      0        0      0     0   1"
      ]
     },
     "execution_count": 125,
     "metadata": {},
     "output_type": "execute_result"
    }
   ],
   "source": [
    "f #dicision with zone and designation"
   ]
  },
  {
   "cell_type": "code",
   "execution_count": 126,
   "metadata": {},
   "outputs": [],
   "source": [
    "df['Designation']=df['Designation'].str.strip()\n",
    "x=pd.DataFrame(index=df.Designation.unique(),columns=df.Zone.unique())\n",
    "h=df.Zone.unique()\n",
    "l=df.Designation.unique()\n",
    "\n",
    "for i in range(7):\n",
    "    temp=df.loc[df.Designation==l[i]]\n",
    "    for j in range(6):\n",
    "        temp1=temp.loc[temp.Zone==h[j]]\n",
    "        x.iloc[[i],[j]]=temp1['Engagement Score (% Satisfaction)'].mean()\n",
    "    "
   ]
  },
  {
   "cell_type": "code",
   "execution_count": 127,
   "metadata": {},
   "outputs": [
    {
     "data": {
      "text/html": [
       "<div>\n",
       "<style scoped>\n",
       "    .dataframe tbody tr th:only-of-type {\n",
       "        vertical-align: middle;\n",
       "    }\n",
       "\n",
       "    .dataframe tbody tr th {\n",
       "        vertical-align: top;\n",
       "    }\n",
       "\n",
       "    .dataframe thead th {\n",
       "        text-align: right;\n",
       "    }\n",
       "</style>\n",
       "<table border=\"1\" class=\"dataframe\">\n",
       "  <thead>\n",
       "    <tr style=\"text-align: right;\">\n",
       "      <th></th>\n",
       "      <th>West</th>\n",
       "      <th>South</th>\n",
       "      <th>Central</th>\n",
       "      <th>North</th>\n",
       "      <th>East</th>\n",
       "      <th>Ho</th>\n",
       "    </tr>\n",
       "  </thead>\n",
       "  <tbody>\n",
       "    <tr>\n",
       "      <td>Sales Executive</td>\n",
       "      <td>0.439737</td>\n",
       "      <td>0.495509</td>\n",
       "      <td>0.531213</td>\n",
       "      <td>0.548268</td>\n",
       "      <td>0.497212</td>\n",
       "      <td>0.533123</td>\n",
       "    </tr>\n",
       "    <tr>\n",
       "      <td>Technical Services Officer</td>\n",
       "      <td>0.593245</td>\n",
       "      <td>0.50451</td>\n",
       "      <td>0.642242</td>\n",
       "      <td>0.449302</td>\n",
       "      <td>0.892029</td>\n",
       "      <td>NaN</td>\n",
       "    </tr>\n",
       "    <tr>\n",
       "      <td>AM - Sales</td>\n",
       "      <td>0.797524</td>\n",
       "      <td>0.701436</td>\n",
       "      <td>0.473861</td>\n",
       "      <td>0.447139</td>\n",
       "      <td>0.389645</td>\n",
       "      <td>0.373858</td>\n",
       "    </tr>\n",
       "    <tr>\n",
       "      <td>Sr Sales Executive</td>\n",
       "      <td>0.531245</td>\n",
       "      <td>0.398327</td>\n",
       "      <td>0.614471</td>\n",
       "      <td>0.699275</td>\n",
       "      <td>0.317814</td>\n",
       "      <td>0.420338</td>\n",
       "    </tr>\n",
       "    <tr>\n",
       "      <td>Regional Manager</td>\n",
       "      <td>NaN</td>\n",
       "      <td>NaN</td>\n",
       "      <td>NaN</td>\n",
       "      <td>NaN</td>\n",
       "      <td>NaN</td>\n",
       "      <td>0.511572</td>\n",
       "    </tr>\n",
       "    <tr>\n",
       "      <td>Zonal Manager</td>\n",
       "      <td>NaN</td>\n",
       "      <td>0.847916</td>\n",
       "      <td>NaN</td>\n",
       "      <td>NaN</td>\n",
       "      <td>NaN</td>\n",
       "      <td>0.65492</td>\n",
       "    </tr>\n",
       "    <tr>\n",
       "      <td>National Sales Head</td>\n",
       "      <td>NaN</td>\n",
       "      <td>NaN</td>\n",
       "      <td>NaN</td>\n",
       "      <td>NaN</td>\n",
       "      <td>NaN</td>\n",
       "      <td>0.450692</td>\n",
       "    </tr>\n",
       "  </tbody>\n",
       "</table>\n",
       "</div>"
      ],
      "text/plain": [
       "                                West     South   Central     North      East  \\\n",
       "Sales Executive             0.439737  0.495509  0.531213  0.548268  0.497212   \n",
       "Technical Services Officer  0.593245   0.50451  0.642242  0.449302  0.892029   \n",
       "AM - Sales                  0.797524  0.701436  0.473861  0.447139  0.389645   \n",
       "Sr Sales Executive          0.531245  0.398327  0.614471  0.699275  0.317814   \n",
       "Regional Manager                 NaN       NaN       NaN       NaN       NaN   \n",
       "Zonal Manager                    NaN  0.847916       NaN       NaN       NaN   \n",
       "National Sales Head              NaN       NaN       NaN       NaN       NaN   \n",
       "\n",
       "                                  Ho  \n",
       "Sales Executive             0.533123  \n",
       "Technical Services Officer       NaN  \n",
       "AM - Sales                  0.373858  \n",
       "Sr Sales Executive          0.420338  \n",
       "Regional Manager            0.511572  \n",
       "Zonal Manager                0.65492  \n",
       "National Sales Head         0.450692  "
      ]
     },
     "execution_count": 127,
     "metadata": {},
     "output_type": "execute_result"
    }
   ],
   "source": [
    "x #satisfaction score with zones and designations"
   ]
  },
  {
   "cell_type": "code",
   "execution_count": 128,
   "metadata": {},
   "outputs": [
    {
     "data": {
      "text/plain": [
       "West       0.590438\n",
       "South      0.589540\n",
       "Central    0.565447\n",
       "North      0.535996\n",
       "East       0.524175\n",
       "Ho         0.490751\n",
       "dtype: float64"
      ]
     },
     "execution_count": 128,
     "metadata": {},
     "output_type": "execute_result"
    }
   ],
   "source": [
    "x.mean(axis=0)"
   ]
  },
  {
   "cell_type": "markdown",
   "metadata": {},
   "source": [
    "We notice that Central and North zones have slighly higher satisfaction rates than the rest. Whereas Ho has very low Satisfaction score. "
   ]
  },
  {
   "cell_type": "markdown",
   "metadata": {},
   "source": [
    "# HO Scenario"
   ]
  },
  {
   "cell_type": "code",
   "execution_count": 129,
   "metadata": {},
   "outputs": [
    {
     "data": {
      "text/plain": [
       "More Challenging Job Roles/ Higher designation    9\n",
       "Lack of Growth                                    4\n",
       "Issues with the Manager                           3\n",
       "Termination - Theft                               1\n",
       "Name: Remarks, dtype: int64"
      ]
     },
     "execution_count": 129,
     "metadata": {},
     "output_type": "execute_result"
    }
   ],
   "source": [
    "df.loc[df.Zone=='Ho'].Remarks.value_counts()"
   ]
  },
  {
   "cell_type": "code",
   "execution_count": 130,
   "metadata": {},
   "outputs": [
    {
     "data": {
      "text/html": [
       "<div>\n",
       "<style scoped>\n",
       "    .dataframe tbody tr th:only-of-type {\n",
       "        vertical-align: middle;\n",
       "    }\n",
       "\n",
       "    .dataframe tbody tr th {\n",
       "        vertical-align: top;\n",
       "    }\n",
       "\n",
       "    .dataframe thead th {\n",
       "        text-align: right;\n",
       "    }\n",
       "</style>\n",
       "<table border=\"1\" class=\"dataframe\">\n",
       "  <thead>\n",
       "    <tr style=\"text-align: right;\">\n",
       "      <th></th>\n",
       "      <th>S.No</th>\n",
       "      <th>EmpID</th>\n",
       "      <th>Emp Name</th>\n",
       "      <th>DOJ</th>\n",
       "      <th>Designation</th>\n",
       "      <th>Grade</th>\n",
       "      <th>Attrition</th>\n",
       "      <th>Location</th>\n",
       "      <th>In Active Date</th>\n",
       "      <th>Tenure</th>\n",
       "      <th>Gender</th>\n",
       "      <th>Education</th>\n",
       "      <th>Age</th>\n",
       "      <th>Last Rating</th>\n",
       "      <th>Monthly Income</th>\n",
       "      <th>Engagement Score (% Satisfaction)</th>\n",
       "      <th>Marital Status</th>\n",
       "      <th>Zone</th>\n",
       "      <th>Remarks</th>\n",
       "    </tr>\n",
       "  </thead>\n",
       "  <tbody>\n",
       "    <tr>\n",
       "      <td>172</td>\n",
       "      <td>172</td>\n",
       "      <td>XYZ2231</td>\n",
       "      <td>ABC172</td>\n",
       "      <td>2008-12-14 00:00:00</td>\n",
       "      <td>Zonal Manager</td>\n",
       "      <td>M4</td>\n",
       "      <td>Yes</td>\n",
       "      <td>Ho</td>\n",
       "      <td>2012-10-03 00:00:00</td>\n",
       "      <td>3 .9</td>\n",
       "      <td>Male</td>\n",
       "      <td>MBA</td>\n",
       "      <td>42</td>\n",
       "      <td>3</td>\n",
       "      <td>75248</td>\n",
       "      <td>0.897682</td>\n",
       "      <td>Single</td>\n",
       "      <td>Ho</td>\n",
       "      <td>More Challenging Job Roles/ Higher designation</td>\n",
       "    </tr>\n",
       "    <tr>\n",
       "      <td>185</td>\n",
       "      <td>185</td>\n",
       "      <td>XYZ2940</td>\n",
       "      <td>ABC185</td>\n",
       "      <td>2011-07-11 00:00:00</td>\n",
       "      <td>Sr Sales Executive</td>\n",
       "      <td>E2</td>\n",
       "      <td>Yes</td>\n",
       "      <td>Ho</td>\n",
       "      <td>2012-09-17 00:00:00</td>\n",
       "      <td>1. 2</td>\n",
       "      <td>Male</td>\n",
       "      <td>Bachelors</td>\n",
       "      <td>30</td>\n",
       "      <td>4</td>\n",
       "      <td>31766</td>\n",
       "      <td>0.315824</td>\n",
       "      <td>Single</td>\n",
       "      <td>Ho</td>\n",
       "      <td>Lack of Growth</td>\n",
       "    </tr>\n",
       "    <tr>\n",
       "      <td>197</td>\n",
       "      <td>197</td>\n",
       "      <td>XYZ2728</td>\n",
       "      <td>ABC197</td>\n",
       "      <td>2010-12-22 00:00:00</td>\n",
       "      <td>National Sales Head</td>\n",
       "      <td>CXO</td>\n",
       "      <td>Yes</td>\n",
       "      <td>Ho</td>\n",
       "      <td>2012-10-09 00:00:00</td>\n",
       "      <td>1. 9</td>\n",
       "      <td>Male</td>\n",
       "      <td>MBA</td>\n",
       "      <td>54</td>\n",
       "      <td>3</td>\n",
       "      <td>233954</td>\n",
       "      <td>0.450692</td>\n",
       "      <td>Married</td>\n",
       "      <td>Ho</td>\n",
       "      <td>More Challenging Job Roles/ Higher designation</td>\n",
       "    </tr>\n",
       "    <tr>\n",
       "      <td>218</td>\n",
       "      <td>218</td>\n",
       "      <td>XYZ0620</td>\n",
       "      <td>ABC218</td>\n",
       "      <td>2006-10-24 00:00:00</td>\n",
       "      <td>Regional Manager</td>\n",
       "      <td>M3</td>\n",
       "      <td>Yes</td>\n",
       "      <td>Ho</td>\n",
       "      <td>2012-10-23 00:00:00</td>\n",
       "      <td>5 .11</td>\n",
       "      <td>Male</td>\n",
       "      <td>MBA</td>\n",
       "      <td>38</td>\n",
       "      <td>5</td>\n",
       "      <td>59615</td>\n",
       "      <td>0.251749</td>\n",
       "      <td>Divorced</td>\n",
       "      <td>Ho</td>\n",
       "      <td>More Challenging Job Roles/ Higher designation</td>\n",
       "    </tr>\n",
       "    <tr>\n",
       "      <td>254</td>\n",
       "      <td>254</td>\n",
       "      <td>XYZ0054</td>\n",
       "      <td>ABC254</td>\n",
       "      <td>2012-08-04 00:00:00</td>\n",
       "      <td>AM - Sales</td>\n",
       "      <td>M1</td>\n",
       "      <td>Yes</td>\n",
       "      <td>Ho</td>\n",
       "      <td>2012-12-31 00:00:00</td>\n",
       "      <td>0. 4</td>\n",
       "      <td>Male</td>\n",
       "      <td>Bachelors</td>\n",
       "      <td>34</td>\n",
       "      <td>2</td>\n",
       "      <td>53811</td>\n",
       "      <td>0.141391</td>\n",
       "      <td>Single</td>\n",
       "      <td>Ho</td>\n",
       "      <td>More Challenging Job Roles/ Higher designation</td>\n",
       "    </tr>\n",
       "    <tr>\n",
       "      <td>255</td>\n",
       "      <td>255</td>\n",
       "      <td>XYZ2731</td>\n",
       "      <td>ABC255</td>\n",
       "      <td>2010-12-23 00:00:00</td>\n",
       "      <td>Sales Executive</td>\n",
       "      <td>E1</td>\n",
       "      <td>Yes</td>\n",
       "      <td>Ho</td>\n",
       "      <td>2012-12-29 00:00:00</td>\n",
       "      <td>2 .0</td>\n",
       "      <td>Male</td>\n",
       "      <td>Bachelors</td>\n",
       "      <td>26</td>\n",
       "      <td>2</td>\n",
       "      <td>26100</td>\n",
       "      <td>0.77364</td>\n",
       "      <td>Single</td>\n",
       "      <td>Ho</td>\n",
       "      <td>Lack of Growth</td>\n",
       "    </tr>\n",
       "    <tr>\n",
       "      <td>270</td>\n",
       "      <td>270</td>\n",
       "      <td>XYZ3321</td>\n",
       "      <td>ABC270</td>\n",
       "      <td>2012-12-27 00:00:00</td>\n",
       "      <td>AM - Sales</td>\n",
       "      <td>M1</td>\n",
       "      <td>Yes</td>\n",
       "      <td>Ho</td>\n",
       "      <td>2013-01-07 00:00:00</td>\n",
       "      <td>0. 0</td>\n",
       "      <td>Male</td>\n",
       "      <td>Bachelors</td>\n",
       "      <td>30</td>\n",
       "      <td>5</td>\n",
       "      <td>52708</td>\n",
       "      <td>0.597692</td>\n",
       "      <td>Divorced</td>\n",
       "      <td>Ho</td>\n",
       "      <td>Issues with the Manager</td>\n",
       "    </tr>\n",
       "  </tbody>\n",
       "</table>\n",
       "</div>"
      ],
      "text/plain": [
       "0   S.No    EmpID Emp Name                  DOJ          Designation Grade  \\\n",
       "172  172  XYZ2231   ABC172  2008-12-14 00:00:00        Zonal Manager    M4   \n",
       "185  185  XYZ2940   ABC185  2011-07-11 00:00:00   Sr Sales Executive    E2   \n",
       "197  197  XYZ2728   ABC197  2010-12-22 00:00:00  National Sales Head   CXO   \n",
       "218  218  XYZ0620   ABC218  2006-10-24 00:00:00     Regional Manager    M3   \n",
       "254  254  XYZ0054   ABC254  2012-08-04 00:00:00           AM - Sales    M1   \n",
       "255  255  XYZ2731   ABC255  2010-12-23 00:00:00      Sales Executive    E1   \n",
       "270  270  XYZ3321   ABC270  2012-12-27 00:00:00           AM - Sales    M1   \n",
       "\n",
       "0   Attrition  Location       In Active Date  Tenure Gender  Education Age  \\\n",
       "172        Yes       Ho  2012-10-03 00:00:00   3 .9    Male        MBA  42   \n",
       "185        Yes       Ho  2012-09-17 00:00:00   1. 2    Male  Bachelors  30   \n",
       "197        Yes       Ho  2012-10-09 00:00:00   1. 9    Male        MBA  54   \n",
       "218        Yes       Ho  2012-10-23 00:00:00  5 .11    Male        MBA  38   \n",
       "254        Yes       Ho  2012-12-31 00:00:00   0. 4    Male  Bachelors  34   \n",
       "255        Yes       Ho  2012-12-29 00:00:00   2 .0    Male  Bachelors  26   \n",
       "270        Yes       Ho  2013-01-07 00:00:00   0. 0    Male  Bachelors  30   \n",
       "\n",
       "0   Last Rating Monthly Income Engagement Score (% Satisfaction)  \\\n",
       "172           3          75248                          0.897682   \n",
       "185           4          31766                          0.315824   \n",
       "197           3         233954                          0.450692   \n",
       "218           5          59615                          0.251749   \n",
       "254           2          53811                          0.141391   \n",
       "255           2          26100                           0.77364   \n",
       "270           5          52708                          0.597692   \n",
       "\n",
       "0   Marital Status Zone                                         Remarks  \n",
       "172        Single    Ho  More Challenging Job Roles/ Higher designation  \n",
       "185        Single    Ho                                  Lack of Growth  \n",
       "197        Married   Ho  More Challenging Job Roles/ Higher designation  \n",
       "218       Divorced   Ho  More Challenging Job Roles/ Higher designation  \n",
       "254        Single    Ho  More Challenging Job Roles/ Higher designation  \n",
       "255        Single    Ho                                  Lack of Growth  \n",
       "270       Divorced   Ho                         Issues with the Manager  "
      ]
     },
     "execution_count": 130,
     "metadata": {},
     "output_type": "execute_result"
    }
   ],
   "source": [
    "df.loc[df.Location=='Ho']"
   ]
  },
  {
   "cell_type": "code",
   "execution_count": 131,
   "metadata": {},
   "outputs": [
    {
     "data": {
      "text/plain": [
       "Regional Manager       5\n",
       "Sr Sales Executive     4\n",
       "AM - Sales             3\n",
       "Zonal Manager          2\n",
       "Sales Executive        2\n",
       "National Sales Head    1\n",
       "Name: Designation, dtype: int64"
      ]
     },
     "execution_count": 131,
     "metadata": {},
     "output_type": "execute_result"
    }
   ],
   "source": [
    "df.loc[df.Zone=='Ho'].Designation.value_counts()"
   ]
  },
  {
   "cell_type": "markdown",
   "metadata": {},
   "source": [
    "High attrition rate is observed in the 2 HOs(8.5 per HO).It is obserevd that in Head offices, 76% of the employees leave the company in search for more challenging, rapid growing jobs. Headoffices are usually situated in happening cities like Hyderabad, Delhi etc where there are umpteen number of jobs opportunities and rapid growth. That is why most of the employees here(Managers) leave the company if they feel that there is no growth here or if they can get a better job at a better salary."
   ]
  },
  {
   "cell_type": "code",
   "execution_count": 132,
   "metadata": {},
   "outputs": [],
   "source": [
    "#df['Designation']=df['Designation'].str.strip()\n",
    "y=pd.DataFrame(index=df.Designation.unique(),columns=df.Zone.unique())\n",
    "h=df.Zone.unique()\n",
    "l=df.Designation.unique()\n",
    "\n",
    "for i in range(7):\n",
    "    temp=df.loc[df.Designation==l[i]]\n",
    "    for j in range(6):\n",
    "        temp1=temp.loc[temp.Zone==h[j]]\n",
    "        y.iloc[[i],[j]]=temp1['Last Rating'].mean()\n",
    "    "
   ]
  },
  {
   "cell_type": "code",
   "execution_count": 133,
   "metadata": {},
   "outputs": [
    {
     "data": {
      "text/html": [
       "<div>\n",
       "<style scoped>\n",
       "    .dataframe tbody tr th:only-of-type {\n",
       "        vertical-align: middle;\n",
       "    }\n",
       "\n",
       "    .dataframe tbody tr th {\n",
       "        vertical-align: top;\n",
       "    }\n",
       "\n",
       "    .dataframe thead th {\n",
       "        text-align: right;\n",
       "    }\n",
       "</style>\n",
       "<table border=\"1\" class=\"dataframe\">\n",
       "  <thead>\n",
       "    <tr style=\"text-align: right;\">\n",
       "      <th></th>\n",
       "      <th>West</th>\n",
       "      <th>South</th>\n",
       "      <th>Central</th>\n",
       "      <th>North</th>\n",
       "      <th>East</th>\n",
       "      <th>Ho</th>\n",
       "    </tr>\n",
       "  </thead>\n",
       "  <tbody>\n",
       "    <tr>\n",
       "      <td>Sales Executive</td>\n",
       "      <td>3.22857</td>\n",
       "      <td>3.2029</td>\n",
       "      <td>3.34783</td>\n",
       "      <td>3.44262</td>\n",
       "      <td>3.11111</td>\n",
       "      <td>2.5</td>\n",
       "    </tr>\n",
       "    <tr>\n",
       "      <td>Technical Services Officer</td>\n",
       "      <td>3.28571</td>\n",
       "      <td>3.26667</td>\n",
       "      <td>2.5</td>\n",
       "      <td>3</td>\n",
       "      <td>4</td>\n",
       "      <td>NaN</td>\n",
       "    </tr>\n",
       "    <tr>\n",
       "      <td>AM - Sales</td>\n",
       "      <td>2.25</td>\n",
       "      <td>3.16667</td>\n",
       "      <td>2.66667</td>\n",
       "      <td>3</td>\n",
       "      <td>3</td>\n",
       "      <td>3</td>\n",
       "    </tr>\n",
       "    <tr>\n",
       "      <td>Sr Sales Executive</td>\n",
       "      <td>3.2</td>\n",
       "      <td>2.55556</td>\n",
       "      <td>4</td>\n",
       "      <td>3</td>\n",
       "      <td>3.55556</td>\n",
       "      <td>3.75</td>\n",
       "    </tr>\n",
       "    <tr>\n",
       "      <td>Regional Manager</td>\n",
       "      <td>NaN</td>\n",
       "      <td>NaN</td>\n",
       "      <td>NaN</td>\n",
       "      <td>NaN</td>\n",
       "      <td>NaN</td>\n",
       "      <td>3.8</td>\n",
       "    </tr>\n",
       "    <tr>\n",
       "      <td>Zonal Manager</td>\n",
       "      <td>NaN</td>\n",
       "      <td>4</td>\n",
       "      <td>NaN</td>\n",
       "      <td>NaN</td>\n",
       "      <td>NaN</td>\n",
       "      <td>2.5</td>\n",
       "    </tr>\n",
       "    <tr>\n",
       "      <td>National Sales Head</td>\n",
       "      <td>NaN</td>\n",
       "      <td>NaN</td>\n",
       "      <td>NaN</td>\n",
       "      <td>NaN</td>\n",
       "      <td>NaN</td>\n",
       "      <td>3</td>\n",
       "    </tr>\n",
       "  </tbody>\n",
       "</table>\n",
       "</div>"
      ],
      "text/plain": [
       "                               West    South  Central    North     East    Ho\n",
       "Sales Executive             3.22857   3.2029  3.34783  3.44262  3.11111   2.5\n",
       "Technical Services Officer  3.28571  3.26667      2.5        3        4   NaN\n",
       "AM - Sales                     2.25  3.16667  2.66667        3        3     3\n",
       "Sr Sales Executive              3.2  2.55556        4        3  3.55556  3.75\n",
       "Regional Manager                NaN      NaN      NaN      NaN      NaN   3.8\n",
       "Zonal Manager                   NaN        4      NaN      NaN      NaN   2.5\n",
       "National Sales Head             NaN      NaN      NaN      NaN      NaN     3"
      ]
     },
     "execution_count": 133,
     "metadata": {},
     "output_type": "execute_result"
    }
   ],
   "source": [
    "y #Rating with zone and designation"
   ]
  },
  {
   "cell_type": "code",
   "execution_count": 134,
   "metadata": {},
   "outputs": [
    {
     "data": {
      "text/plain": [
       "West       2.991071\n",
       "South      3.238357\n",
       "Central    3.128623\n",
       "North      3.110656\n",
       "East       3.416667\n",
       "Ho         3.091667\n",
       "dtype: float64"
      ]
     },
     "execution_count": 134,
     "metadata": {},
     "output_type": "execute_result"
    }
   ],
   "source": [
    "y.mean()"
   ]
  },
  {
   "cell_type": "code",
   "execution_count": 135,
   "metadata": {},
   "outputs": [
    {
     "data": {
      "text/plain": [
       "Sales Executive               3.138838\n",
       "Technical Services Officer    3.210476\n",
       "AM - Sales                    2.847222\n",
       "Sr Sales Executive            3.343519\n",
       "Regional Manager              3.800000\n",
       "Zonal Manager                 3.250000\n",
       "National Sales Head           3.000000\n",
       "dtype: float64"
      ]
     },
     "execution_count": 135,
     "metadata": {},
     "output_type": "execute_result"
    }
   ],
   "source": [
    "y.mean(axis=1)"
   ]
  },
  {
   "cell_type": "markdown",
   "metadata": {},
   "source": [
    "# Tenure"
   ]
  },
  {
   "cell_type": "code",
   "execution_count": 136,
   "metadata": {},
   "outputs": [
    {
     "data": {
      "text/plain": [
       "1       1. 6 \n",
       "2       1. 9 \n",
       "3       1. 5 \n",
       "4      3 .11 \n",
       "5       2 .1 \n",
       "        ...  \n",
       "323     4 .9 \n",
       "324     0. 5 \n",
       "325     7 .3 \n",
       "326     8 .8 \n",
       "327     0. 0 \n",
       "Name: Tenure, Length: 327, dtype: object"
      ]
     },
     "execution_count": 136,
     "metadata": {},
     "output_type": "execute_result"
    }
   ],
   "source": [
    "df.Tenure"
   ]
  },
  {
   "cell_type": "code",
   "execution_count": 137,
   "metadata": {},
   "outputs": [],
   "source": [
    "df['Tenure'] = df['Tenure'].str.replace(\" \",\"\")\n",
    "df.Tenure = df.Tenure.astype(float)\n",
    "tenure=pd.DataFrame(index=['Less than 6 months','Between 1 year and 6 months','1-3 Years','Greater than 3 years'],columns=df.Designation.unique())\n",
    "for i in range(4):\n",
    "    for j in range(7):\n",
    "        if(i==0):\n",
    "            temp=df.loc[df.Tenure<0.5]\n",
    "            temp1=temp.loc[temp.Designation==df.Designation.unique()[j]]\n",
    "            a=(len(temp1)/len(df.loc[df.Designation==df.Designation.unique()[j]]))*100\n",
    "            tenure.iloc[[i],[j]]=a\n",
    "        if(i==1):\n",
    "            temp=df.loc[(df.Tenure>=0.5) & (df.Tenure<1)]\n",
    "            temp1=temp.loc[temp.Designation==df.Designation.unique()[j]]\n",
    "            a=(len(temp1)/len(df.loc[df.Designation==df.Designation.unique()[j]]))*100\n",
    "            tenure.iloc[[i],[j]]=a\n",
    "        if(i==2):\n",
    "            temp=df.loc[(df.Tenure>=1) & (df.Tenure<3)]\n",
    "            temp1=temp.loc[temp.Designation==df.Designation.unique()[j]]\n",
    "            a=(len(temp1)/len(df.loc[df.Designation==df.Designation.unique()[j]]))*100\n",
    "            tenure.iloc[[i],[j]]=a\n",
    "        if(i==3):\n",
    "            temp=df.loc[df.Tenure>3]\n",
    "            temp1=temp.loc[temp.Designation==df.Designation.unique()[j]]\n",
    "            a=(len(temp1)/len(df.loc[df.Designation==df.Designation.unique()[j]]))*100\n",
    "            tenure.iloc[[i],[j]]=a\n",
    "        \n",
    "            \n",
    "        "
   ]
  },
  {
   "cell_type": "code",
   "execution_count": 138,
   "metadata": {},
   "outputs": [
    {
     "data": {
      "text/plain": [
       "More Challenging Job Roles/ Higher designation    13\n",
       "Lack of Growth                                     9\n",
       "Better Salary                                      3\n",
       "Health Reasons                                     1\n",
       "Termination - Poor Performance                     1\n",
       "Name: Remarks, dtype: int64"
      ]
     },
     "execution_count": 138,
     "metadata": {},
     "output_type": "execute_result"
    }
   ],
   "source": [
    "df.loc[df.Designation=='Technical Services Officer'].Remarks.value_counts()"
   ]
  },
  {
   "cell_type": "code",
   "execution_count": 139,
   "metadata": {},
   "outputs": [
    {
     "data": {
      "text/html": [
       "<div>\n",
       "<style scoped>\n",
       "    .dataframe tbody tr th:only-of-type {\n",
       "        vertical-align: middle;\n",
       "    }\n",
       "\n",
       "    .dataframe tbody tr th {\n",
       "        vertical-align: top;\n",
       "    }\n",
       "\n",
       "    .dataframe thead th {\n",
       "        text-align: right;\n",
       "    }\n",
       "</style>\n",
       "<table border=\"1\" class=\"dataframe\">\n",
       "  <thead>\n",
       "    <tr style=\"text-align: right;\">\n",
       "      <th></th>\n",
       "      <th>Sales Executive</th>\n",
       "      <th>Technical Services Officer</th>\n",
       "      <th>AM - Sales</th>\n",
       "      <th>Sr Sales Executive</th>\n",
       "      <th>Regional Manager</th>\n",
       "      <th>Zonal Manager</th>\n",
       "      <th>National Sales Head</th>\n",
       "    </tr>\n",
       "  </thead>\n",
       "  <tbody>\n",
       "    <tr>\n",
       "      <td>Less than 6 months</td>\n",
       "      <td>31.9149</td>\n",
       "      <td>44.4444</td>\n",
       "      <td>27.2727</td>\n",
       "      <td>8.82353</td>\n",
       "      <td>40</td>\n",
       "      <td>0</td>\n",
       "      <td>0</td>\n",
       "    </tr>\n",
       "    <tr>\n",
       "      <td>Between 1 year and 6 months</td>\n",
       "      <td>9.78723</td>\n",
       "      <td>22.2222</td>\n",
       "      <td>9.09091</td>\n",
       "      <td>0</td>\n",
       "      <td>0</td>\n",
       "      <td>0</td>\n",
       "      <td>0</td>\n",
       "    </tr>\n",
       "    <tr>\n",
       "      <td>1-3 Years</td>\n",
       "      <td>44.2553</td>\n",
       "      <td>25.9259</td>\n",
       "      <td>13.6364</td>\n",
       "      <td>11.7647</td>\n",
       "      <td>20</td>\n",
       "      <td>33.3333</td>\n",
       "      <td>100</td>\n",
       "    </tr>\n",
       "    <tr>\n",
       "      <td>Greater than 3 years</td>\n",
       "      <td>12.766</td>\n",
       "      <td>7.40741</td>\n",
       "      <td>50</td>\n",
       "      <td>79.4118</td>\n",
       "      <td>40</td>\n",
       "      <td>66.6667</td>\n",
       "      <td>0</td>\n",
       "    </tr>\n",
       "  </tbody>\n",
       "</table>\n",
       "</div>"
      ],
      "text/plain": [
       "                            Sales Executive Technical Services Officer  \\\n",
       "Less than 6 months                  31.9149                    44.4444   \n",
       "Between 1 year and 6 months         9.78723                    22.2222   \n",
       "1-3 Years                           44.2553                    25.9259   \n",
       "Greater than 3 years                 12.766                    7.40741   \n",
       "\n",
       "                            AM - Sales Sr Sales Executive Regional Manager  \\\n",
       "Less than 6 months             27.2727            8.82353               40   \n",
       "Between 1 year and 6 months    9.09091                  0                0   \n",
       "1-3 Years                      13.6364            11.7647               20   \n",
       "Greater than 3 years                50            79.4118               40   \n",
       "\n",
       "                            Zonal Manager National Sales Head  \n",
       "Less than 6 months                      0                   0  \n",
       "Between 1 year and 6 months             0                   0  \n",
       "1-3 Years                         33.3333                 100  \n",
       "Greater than 3 years              66.6667                   0  "
      ]
     },
     "execution_count": 139,
     "metadata": {},
     "output_type": "execute_result"
    }
   ],
   "source": [
    "tenure"
   ]
  },
  {
   "cell_type": "markdown",
   "metadata": {},
   "source": [
    "Sales executive- 87% of sales execs leave the company before 3 years.\n",
    "                 53% of sales execs leaving before 6 months of joining, reported Issues with manager as the reason.\n",
    "                 \n",
    "                 \n",
    "                 "
   ]
  },
  {
   "cell_type": "code",
   "execution_count": 140,
   "metadata": {},
   "outputs": [],
   "source": [
    "s=df.loc[(df.Tenure>3)]\n",
    "d=s.loc[s.Designation=='Sales Executive'].Remarks.value_counts()"
   ]
  },
  {
   "cell_type": "code",
   "execution_count": 141,
   "metadata": {},
   "outputs": [
    {
     "data": {
      "text/plain": [
       "Issues with the Manager                           14\n",
       "Lack of Growth                                    10\n",
       "Termination - Poor Performance                     2\n",
       "Absconding                                         2\n",
       "More Challenging Job Roles/ Higher designation     1\n",
       "Better Salary                                      1\n",
       "Name: Remarks, dtype: int64"
      ]
     },
     "execution_count": 141,
     "metadata": {},
     "output_type": "execute_result"
    }
   ],
   "source": [
    "d"
   ]
  },
  {
   "cell_type": "code",
   "execution_count": 142,
   "metadata": {},
   "outputs": [],
   "source": [
    "s=df.loc[df.Tenure<0.5]\n",
    "d=s.loc[s.Designation=='Technical Services Officer'].Education.value_counts()"
   ]
  },
  {
   "cell_type": "code",
   "execution_count": 143,
   "metadata": {},
   "outputs": [
    {
     "data": {
      "text/plain": [
       "MBA          8\n",
       "Bachelors    4\n",
       "Name: Education, dtype: int64"
      ]
     },
     "execution_count": 143,
     "metadata": {},
     "output_type": "execute_result"
    }
   ],
   "source": [
    "d"
   ]
  },
  {
   "cell_type": "code",
   "execution_count": 144,
   "metadata": {},
   "outputs": [],
   "source": [
    "zone=pd.DataFrame(index=['Less than 6 months','Between 1 year and 6 months','1-3 Years','Greater than 3 years'],columns=df.Zone.unique())\n",
    "for i in range(4):\n",
    "    for j in range(6):\n",
    "        if(i==0):\n",
    "            temp=df.loc[df.Tenure<0.5]\n",
    "            temp1=temp.loc[temp.Zone==df.Zone.unique()[j]]\n",
    "            a=(len(temp1)/len(df.loc[df.Zone==df.Zone.unique()[j]]))*100\n",
    "            zone.iloc[[i],[j]]=a\n",
    "        if(i==1):\n",
    "            temp=df.loc[(df.Tenure>=0.5) & (df.Tenure<1)]\n",
    "            temp1=temp.loc[temp.Zone==df.Zone.unique()[j]]\n",
    "            a=(len(temp1)/len(df.loc[df.Zone==df.Zone.unique()[j]]))*100\n",
    "            zone.iloc[[i],[j]]=a\n",
    "        if(i==2):\n",
    "            temp=df.loc[(df.Tenure>=1) & (df.Tenure<3)]\n",
    "            temp1=temp.loc[temp.Zone==df.Zone.unique()[j]]\n",
    "            a=(len(temp1)/len(df.loc[df.Zone==df.Zone.unique()[j]]))*100\n",
    "            zone.iloc[[i],[j]]=a\n",
    "        if(i==3):\n",
    "            temp=df.loc[df.Tenure>3]\n",
    "            temp1=temp.loc[temp.Zone==df.Zone.unique()[j]]\n",
    "            a=(len(temp1)/len(df.loc[df.Zone==df.Zone.unique()[j]]))*100\n",
    "            zone.iloc[[i],[j]]=a\n",
    "        "
   ]
  },
  {
   "cell_type": "code",
   "execution_count": 145,
   "metadata": {},
   "outputs": [
    {
     "data": {
      "text/html": [
       "<div>\n",
       "<style scoped>\n",
       "    .dataframe tbody tr th:only-of-type {\n",
       "        vertical-align: middle;\n",
       "    }\n",
       "\n",
       "    .dataframe tbody tr th {\n",
       "        vertical-align: top;\n",
       "    }\n",
       "\n",
       "    .dataframe thead th {\n",
       "        text-align: right;\n",
       "    }\n",
       "</style>\n",
       "<table border=\"1\" class=\"dataframe\">\n",
       "  <thead>\n",
       "    <tr style=\"text-align: right;\">\n",
       "      <th></th>\n",
       "      <th>West</th>\n",
       "      <th>South</th>\n",
       "      <th>Central</th>\n",
       "      <th>North</th>\n",
       "      <th>East</th>\n",
       "      <th>Ho</th>\n",
       "    </tr>\n",
       "  </thead>\n",
       "  <tbody>\n",
       "    <tr>\n",
       "      <td>Less than 6 months</td>\n",
       "      <td>33.3333</td>\n",
       "      <td>20</td>\n",
       "      <td>44.8276</td>\n",
       "      <td>37.5</td>\n",
       "      <td>25.8621</td>\n",
       "      <td>35.2941</td>\n",
       "    </tr>\n",
       "    <tr>\n",
       "      <td>Between 1 year and 6 months</td>\n",
       "      <td>17.6471</td>\n",
       "      <td>9</td>\n",
       "      <td>0</td>\n",
       "      <td>11.1111</td>\n",
       "      <td>8.62069</td>\n",
       "      <td>0</td>\n",
       "    </tr>\n",
       "    <tr>\n",
       "      <td>1-3 Years</td>\n",
       "      <td>35.2941</td>\n",
       "      <td>36</td>\n",
       "      <td>41.3793</td>\n",
       "      <td>37.5</td>\n",
       "      <td>39.6552</td>\n",
       "      <td>29.4118</td>\n",
       "    </tr>\n",
       "    <tr>\n",
       "      <td>Greater than 3 years</td>\n",
       "      <td>13.7255</td>\n",
       "      <td>32</td>\n",
       "      <td>13.7931</td>\n",
       "      <td>13.8889</td>\n",
       "      <td>25.8621</td>\n",
       "      <td>35.2941</td>\n",
       "    </tr>\n",
       "  </tbody>\n",
       "</table>\n",
       "</div>"
      ],
      "text/plain": [
       "                                West South  Central    North     East       Ho\n",
       "Less than 6 months           33.3333    20  44.8276     37.5  25.8621  35.2941\n",
       "Between 1 year and 6 months  17.6471     9        0  11.1111  8.62069        0\n",
       "1-3 Years                    35.2941    36  41.3793     37.5  39.6552  29.4118\n",
       "Greater than 3 years         13.7255    32  13.7931  13.8889  25.8621  35.2941"
      ]
     },
     "execution_count": 145,
     "metadata": {},
     "output_type": "execute_result"
    }
   ],
   "source": [
    "zone"
   ]
  },
  {
   "cell_type": "code",
   "execution_count": 146,
   "metadata": {},
   "outputs": [],
   "source": [
    "remarks=df.Remarks"
   ]
  },
  {
   "cell_type": "code",
   "execution_count": 147,
   "metadata": {},
   "outputs": [
    {
     "data": {
      "text/plain": [
       "Issues with the Manager                           145\n",
       "Lack of Growth                                     96\n",
       "More Challenging Job Roles/ Higher designation     31\n",
       "Better Salary                                      19\n",
       "Termination - Poor Performance                     13\n",
       "Absconding                                          8\n",
       "Termination - Theft                                 6\n",
       "Health Reasons                                      4\n",
       "Higher education                                    3\n",
       "Reasons not known                                   2\n",
       "Name: Remarks, dtype: int64"
      ]
     },
     "execution_count": 147,
     "metadata": {},
     "output_type": "execute_result"
    }
   ],
   "source": [
    "remarks.value_counts()"
   ]
  },
  {
   "cell_type": "code",
   "execution_count": 148,
   "metadata": {},
   "outputs": [],
   "source": [
    "df.Remarks=df.Remarks.replace(['Lack of Growth','More Challenging Job Roles/ Higher designation','Better Salary','Higher education'], 'Higher Aspiration')\n",
    "df.Remarks=df.Remarks.replace(['Absconding','Health Reasons','Reasons not known'], 'Others')\n",
    "df.Remarks=df.Remarks.replace(['Termination - Poor Performance','Termination - Theft'], 'Termination')"
   ]
  },
  {
   "cell_type": "code",
   "execution_count": 149,
   "metadata": {},
   "outputs": [
    {
     "data": {
      "text/plain": [
       "Higher Aspiration          149\n",
       "Issues with the Manager    145\n",
       "Termination                 19\n",
       "Others                      14\n",
       "Name: Remarks, dtype: int64"
      ]
     },
     "execution_count": 149,
     "metadata": {},
     "output_type": "execute_result"
    }
   ],
   "source": [
    "df.Remarks.value_counts()"
   ]
  },
  {
   "cell_type": "code",
   "execution_count": 150,
   "metadata": {},
   "outputs": [],
   "source": [
    "remarks=pd.DataFrame(index=['Less than 6 months','Between 1 year and 6 months','1-3 Years','Greater than 3 years'],columns=df.Remarks.unique())\n",
    "df1=df.loc[df.Designation=='Sales Executive']\n",
    "for i in range(4):\n",
    "    for j in range(4):\n",
    "        if(i==0):\n",
    "            temp=df1.loc[df1.Tenure<0.5]\n",
    "            temp1=temp.loc[temp.Remarks==df1.Remarks.unique()[j]]\n",
    "            a=(len(temp1))\n",
    "            remarks.iloc[[i],[j]]=a\n",
    "        if(i==1):\n",
    "            temp=df1.loc[(df1.Tenure>=0.5) & (df1.Tenure<1)]\n",
    "            temp1=temp.loc[temp.Remarks==df1.Remarks.unique()[j]]\n",
    "            a=(len(temp1))\n",
    "            remarks.iloc[[i],[j]]=a\n",
    "        if(i==2):\n",
    "            temp=df1.loc[(df1.Tenure>=1) & (df1.Tenure<3)]\n",
    "            temp1=temp.loc[temp.Remarks==df1.Remarks.unique()[j]]\n",
    "            a=(len(temp1))\n",
    "            remarks.iloc[[i],[j]]=a\n",
    "        if(i==3):\n",
    "            temp=df1.loc[df.Tenure>3]\n",
    "            temp1=temp.loc[temp.Remarks==df1.Remarks.unique()[j]]\n",
    "            a=(len(temp1))\n",
    "            remarks.iloc[[i],[j]]=a\n",
    "        "
   ]
  },
  {
   "cell_type": "code",
   "execution_count": 151,
   "metadata": {},
   "outputs": [
    {
     "data": {
      "text/html": [
       "<div>\n",
       "<style scoped>\n",
       "    .dataframe tbody tr th:only-of-type {\n",
       "        vertical-align: middle;\n",
       "    }\n",
       "\n",
       "    .dataframe tbody tr th {\n",
       "        vertical-align: top;\n",
       "    }\n",
       "\n",
       "    .dataframe thead th {\n",
       "        text-align: right;\n",
       "    }\n",
       "</style>\n",
       "<table border=\"1\" class=\"dataframe\">\n",
       "  <thead>\n",
       "    <tr style=\"text-align: right;\">\n",
       "      <th></th>\n",
       "      <th>Issues with the Manager</th>\n",
       "      <th>Higher Aspiration</th>\n",
       "      <th>Others</th>\n",
       "      <th>Termination</th>\n",
       "    </tr>\n",
       "  </thead>\n",
       "  <tbody>\n",
       "    <tr>\n",
       "      <td>Less than 6 months</td>\n",
       "      <td>40</td>\n",
       "      <td>21</td>\n",
       "      <td>5</td>\n",
       "      <td>9</td>\n",
       "    </tr>\n",
       "    <tr>\n",
       "      <td>Between 1 year and 6 months</td>\n",
       "      <td>12</td>\n",
       "      <td>8</td>\n",
       "      <td>3</td>\n",
       "      <td>0</td>\n",
       "    </tr>\n",
       "    <tr>\n",
       "      <td>1-3 Years</td>\n",
       "      <td>59</td>\n",
       "      <td>39</td>\n",
       "      <td>2</td>\n",
       "      <td>4</td>\n",
       "    </tr>\n",
       "    <tr>\n",
       "      <td>Greater than 3 years</td>\n",
       "      <td>14</td>\n",
       "      <td>12</td>\n",
       "      <td>2</td>\n",
       "      <td>2</td>\n",
       "    </tr>\n",
       "  </tbody>\n",
       "</table>\n",
       "</div>"
      ],
      "text/plain": [
       "                             Issues with the Manager  Higher Aspiration  \\\n",
       "Less than 6 months                                40                 21   \n",
       "Between 1 year and 6 months                       12                  8   \n",
       "1-3 Years                                         59                 39   \n",
       "Greater than 3 years                              14                 12   \n",
       "\n",
       "                             Others  Termination  \n",
       "Less than 6 months                5            9  \n",
       "Between 1 year and 6 months       3            0  \n",
       "1-3 Years                         2            4  \n",
       "Greater than 3 years              2            2  "
      ]
     },
     "execution_count": 151,
     "metadata": {},
     "output_type": "execute_result"
    }
   ],
   "source": [
    "remarks"
   ]
  },
  {
   "cell_type": "code",
   "execution_count": 152,
   "metadata": {},
   "outputs": [],
   "source": [
    "s=[]\n",
    "for item in (df.Tenure):\n",
    "    if(item<=1):\n",
    "        s.append('<1')\n",
    "        continue\n",
    "    if(item>1 and item<=3):\n",
    "        s.append('1-3')\n",
    "        continue\n",
    "    else:\n",
    "        s.append('>3')\n",
    "        continue"
   ]
  },
  {
   "cell_type": "code",
   "execution_count": 153,
   "metadata": {},
   "outputs": [
    {
     "data": {
      "text/plain": [
       "327"
      ]
     },
     "execution_count": 153,
     "metadata": {},
     "output_type": "execute_result"
    }
   ],
   "source": [
    "len(s)"
   ]
  },
  {
   "cell_type": "code",
   "execution_count": 154,
   "metadata": {},
   "outputs": [],
   "source": [
    "df['tenure']=s"
   ]
  },
  {
   "cell_type": "code",
   "execution_count": 155,
   "metadata": {},
   "outputs": [],
   "source": [
    "dfs=df[df.Designation=='Sales Executive']"
   ]
  },
  {
   "cell_type": "code",
   "execution_count": 157,
   "metadata": {},
   "outputs": [
    {
     "data": {
      "image/png": "[encoded data removed]",
      "text/plain": [
       "<Figure size 412.25x360 with 1 Axes>"
      ]
     },
     "metadata": {
      "needs_background": "light"
     },
     "output_type": "display_data"
    }
   ],
   "source": [
    "chart=sns.catplot(data=dfs,x='Remarks',kind='count',hue='tenure')\n",
    "chart.set_xticklabels(rotation=45)\n",
    "chart.savefig('f1.png')"
   ]
  },
  {
   "cell_type": "code",
   "execution_count": 161,
   "metadata": {},
   "outputs": [
    {
     "data": {
      "image/png": "[encoded data removed]",
      "text/plain": [
       "<Figure size 412.25x360 with 1 Axes>"
      ]
     },
     "metadata": {
      "needs_background": "light"
     },
     "output_type": "display_data"
    }
   ],
   "source": [
    "chart1=sns.catplot(data=df[df.Designation=='Sales Executive'],x='Remarks',kind='count',hue='tenure')\n",
    "chart1.set_xticklabels(rotation=45)\n",
    "plt.title('Sales Executive')\n",
    "chart1.savefig('f2.png')"
   ]
  },
  {
   "cell_type": "markdown",
   "metadata": {},
   "source": [
    "Sales executives don't wait for long before leaving the company, if they find a better option they leave. "
   ]
  },
  {
   "cell_type": "code",
   "execution_count": 160,
   "metadata": {},
   "outputs": [
    {
     "data": {
      "image/png": "[encoded data removed]",
      "text/plain": [
       "<Figure size 412.25x360 with 1 Axes>"
      ]
     },
     "metadata": {
      "needs_background": "light"
     },
     "output_type": "display_data"
    }
   ],
   "source": [
    "chart1=sns.catplot(data=df[df.Designation=='Sr Sales Executive'],x='Remarks',kind='count',hue='tenure')\n",
    "chart1.set_xticklabels(rotation=45)\n",
    "plt.title('Sr Sales Executive')\n",
    "chart1.savefig('f3.png')"
   ]
  },
  {
   "cell_type": "code",
   "execution_count": null,
   "metadata": {},
   "outputs": [],
   "source": []
  },
  {
   "cell_type": "markdown",
   "metadata": {},
   "source": [
    "Sr. Sales executives in this company excercise the 'Wait and Watch' policy. They have waited for 3 years, and still if they're not satisfied with their job, they left to lookout for better opportunities. We also notice that max of the employees with Issues with manager, also leave after 3 years."
   ]
  },
  {
   "cell_type": "code",
   "execution_count": 162,
   "metadata": {},
   "outputs": [
    {
     "data": {
      "image/png": "[encoded data removed]",
      "text/plain": [
       "<Figure size 412.25x360 with 1 Axes>"
      ]
     },
     "metadata": {
      "needs_background": "light"
     },
     "output_type": "display_data"
    }
   ],
   "source": [
    "chart2=sns.catplot(data=df[df.Designation=='AM - Sales'],x='Remarks',kind='count',hue='tenure')\n",
    "chart2.set_xticklabels(rotation=45)\n",
    "plt.title('AM - Sales')\n",
    "chart2.savefig('f4.png')"
   ]
  },
  {
   "cell_type": "markdown",
   "metadata": {},
   "source": [
    "AM - Sales, mainly leave the company because of higher aspiration. It is because they might go for an MBA or promoted job position at a competetor company."
   ]
  },
  {
   "cell_type": "code",
   "execution_count": 163,
   "metadata": {},
   "outputs": [
    {
     "data": {
      "image/png": "[encoded data removed]",
      "text/plain": [
       "<Figure size 412.25x360 with 1 Axes>"
      ]
     },
     "metadata": {
      "needs_background": "light"
     },
     "output_type": "display_data"
    }
   ],
   "source": [
    "chart5=sns.catplot(data=df[df.Designation=='Technical Services Officer'],x='Remarks',kind='count',hue='tenure')\n",
    "#chart3.set_xticklabels(rotation=45)\n",
    "plt.title('Technical Services Officer')\n",
    "chart5.savefig('f5.png')"
   ]
  },
  {
   "cell_type": "markdown",
   "metadata": {},
   "source": [
    "Almost all TSOs, who have higher aspirations, leave the company before completing a year. "
   ]
  },
  {
   "cell_type": "code",
   "execution_count": 55,
   "metadata": {},
   "outputs": [
    {
     "data": {
      "text/plain": [
       "Issues with the Manager    125\n",
       "Higher Aspiration           80\n",
       "Others                      12\n",
       "Termination                 15\n",
       "dtype: int64"
      ]
     },
     "execution_count": 55,
     "metadata": {},
     "output_type": "execute_result"
    }
   ],
   "source": [
    "remarks.sum()"
   ]
  },
  {
   "cell_type": "code",
   "execution_count": 56,
   "metadata": {},
   "outputs": [
    {
     "data": {
      "text/plain": [
       "Less than 6 months              75\n",
       "Between 1 year and 6 months     23\n",
       "1-3 Years                      104\n",
       "Greater than 3 years            30\n",
       "dtype: int64"
      ]
     },
     "execution_count": 56,
     "metadata": {},
     "output_type": "execute_result"
    }
   ],
   "source": [
    "remarks.sum(axis=1)"
   ]
  }
 ],
 "metadata": {
  "kernelspec": {
   "display_name": "Python 3",
   "language": "python",
   "name": "python3"
  },
  "language_info": {
   "codemirror_mode": {
    "name": "ipython",
    "version": 3
   },
   "file_extension": ".py",
   "mimetype": "text/x-python",
   "name": "python",
   "nbconvert_exporter": "python",
   "pygments_lexer": "ipython3",
   "version": "3.7.4"
  }
 },
 "nbformat": 4,
 "nbformat_minor": 2
}
