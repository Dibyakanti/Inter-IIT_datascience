{
 "cells": [
  {
   "cell_type": "code",
   "execution_count": 4,
   "metadata": {},
   "outputs": [],
   "source": [
    "import pandas as pd\n",
    "import missingno as msno"
   ]
  },
  {
   "cell_type": "code",
   "execution_count": 5,
   "metadata": {},
   "outputs": [],
   "source": [
    "import pandas as pd\n",
    "import numpy as np\n",
    "\n",
    "from sklearn.model_selection import train_test_split\n",
    "from sklearn import preprocessing\n",
    "\n",
    "from sklearn import metrics\n",
    "from sklearn.metrics import r2_score as r2\n",
    "\n",
    "from sklearn.model_selection import cross_val_score\n",
    "from sklearn.model_selection import cross_val_predict\n",
    "\n",
    "from sklearn.model_selection import GridSearchCV\n",
    "\n",
    "from sklearn.linear_model import LinearRegression,LassoCV, Ridge, LassoLarsCV,ElasticNetCV\n",
    "from sklearn.model_selection import GridSearchCV, cross_val_score, learning_curve\n",
    "from sklearn.ensemble import RandomForestRegressor, AdaBoostRegressor, ExtraTreesRegressor, GradientBoostingRegressor\n",
    "from sklearn.preprocessing import StandardScaler, Normalizer, RobustScaler\n",
    "# import xgboost as xgb\n",
    "# import lightgbm as lgb"
   ]
  },
  {
   "cell_type": "code",
   "execution_count": 6,
   "metadata": {},
   "outputs": [],
   "source": [
    "train=pd.read_csv('train.csv')\n",
    "test=pd.read_csv('test.csv')"
   ]
  },
  {
   "cell_type": "code",
   "execution_count": 7,
   "metadata": {},
   "outputs": [],
   "source": [
    "train=train.drop(columns=['id'])\n",
    "test=test.drop(columns=['id'])"
   ]
  },
  {
   "cell_type": "code",
   "execution_count": 8,
   "metadata": {},
   "outputs": [],
   "source": [
    "# msno.bar(test.iloc[:,:])"
   ]
  },
  {
   "cell_type": "code",
   "execution_count": 9,
   "metadata": {},
   "outputs": [],
   "source": [
    "columns=train.columns"
   ]
  },
  {
   "cell_type": "code",
   "execution_count": 10,
   "metadata": {},
   "outputs": [
    {
     "name": "stderr",
     "output_type": "stream",
     "text": [
      "/home/dibyakanti/.local/lib/python2.7/site-packages/impyute/util/preprocess.py:52: FutureWarning: Method .as_matrix will be removed in a future version. Use .values instead.\n",
      "  args[0] = args[0].as_matrix()\n"
     ]
    }
   ],
   "source": [
    "from impyute.imputation.cs import fast_knn\n",
    "train1=fast_knn(train,k=3)\n",
    "test = fast_knn(test ,k=3)"
   ]
  },
  {
   "cell_type": "code",
   "execution_count": 11,
   "metadata": {},
   "outputs": [],
   "source": [
    "train1.columns=columns"
   ]
  },
  {
   "cell_type": "code",
   "execution_count": 12,
   "metadata": {},
   "outputs": [],
   "source": [
    "X = train1.iloc[:,3:]  #independent columns\n",
    "y = train1.iloc[:,2]#target column\n",
    "X_test=   test.iloc[:,2:]"
   ]
  },
  {
   "cell_type": "code",
   "execution_count": 13,
   "metadata": {},
   "outputs": [
    {
     "name": "stderr",
     "output_type": "stream",
     "text": [
      "/home/dibyakanti/.local/lib/python2.7/site-packages/ipykernel_launcher.py:1: SettingWithCopyWarning: \n",
      "A value is trying to be set on a copy of a slice from a DataFrame.\n",
      "Try using .loc[row_indexer,col_indexer] = value instead\n",
      "\n",
      "See the caveats in the documentation: http://pandas.pydata.org/pandas-docs/stable/indexing.html#indexing-view-versus-copy\n",
      "  \"\"\"Entry point for launching an IPython kernel.\n"
     ]
    }
   ],
   "source": [
    "X['span']=train1.iloc[:,0]"
   ]
  },
  {
   "cell_type": "code",
   "execution_count": 14,
   "metadata": {},
   "outputs": [
    {
     "name": "stderr",
     "output_type": "stream",
     "text": [
      "/home/dibyakanti/.local/lib/python2.7/site-packages/ipykernel_launcher.py:1: SettingWithCopyWarning: \n",
      "A value is trying to be set on a copy of a slice from a DataFrame.\n",
      "Try using .loc[row_indexer,col_indexer] = value instead\n",
      "\n",
      "See the caveats in the documentation: http://pandas.pydata.org/pandas-docs/stable/indexing.html#indexing-view-versus-copy\n",
      "  \"\"\"Entry point for launching an IPython kernel.\n"
     ]
    }
   ],
   "source": [
    "X_test['span']=test.iloc[:,0]"
   ]
  },
  {
   "cell_type": "code",
   "execution_count": 15,
   "metadata": {},
   "outputs": [
    {
     "name": "stderr",
     "output_type": "stream",
     "text": [
      "/home/dibyakanti/.local/lib/python2.7/site-packages/ipykernel_launcher.py:1: SettingWithCopyWarning: \n",
      "A value is trying to be set on a copy of a slice from a DataFrame.\n",
      "Try using .loc[row_indexer,col_indexer] = value instead\n",
      "\n",
      "See the caveats in the documentation: http://pandas.pydata.org/pandas-docs/stable/indexing.html#indexing-view-versus-copy\n",
      "  \"\"\"Entry point for launching an IPython kernel.\n"
     ]
    }
   ],
   "source": [
    "X['span']=X.span.astype(float)"
   ]
  },
  {
   "cell_type": "code",
   "execution_count": 150,
   "metadata": {},
   "outputs": [
    {
     "name": "stderr",
     "output_type": "stream",
     "text": [
      "/home/dibyakanti/.local/lib/python2.7/site-packages/ipykernel_launcher.py:1: SettingWithCopyWarning: \n",
      "A value is trying to be set on a copy of a slice from a DataFrame.\n",
      "Try using .loc[row_indexer,col_indexer] = value instead\n",
      "\n",
      "See the caveats in the documentation: http://pandas.pydata.org/pandas-docs/stable/indexing.html#indexing-view-versus-copy\n",
      "  \"\"\"Entry point for launching an IPython kernel.\n"
     ]
    }
   ],
   "source": [
    "X_test['span']=X_test.span.astype(float)"
   ]
  },
  {
   "cell_type": "code",
   "execution_count": 136,
   "metadata": {},
   "outputs": [
    {
     "data": {
      "text/plain": [
       "dtype('float64')"
      ]
     },
     "execution_count": 136,
     "metadata": {},
     "output_type": "execute_result"
    }
   ],
   "source": [
    "y_test.dtypes"
   ]
  },
  {
   "cell_type": "code",
   "execution_count": 137,
   "metadata": {},
   "outputs": [
    {
     "name": "stdout",
     "output_type": "stream",
     "text": [
      "[1.05954421e-04 2.51281065e-07 2.90622223e-03 7.52182633e-05\n",
      " 4.70136578e-03 8.70062195e-04 6.29719689e-05 5.59706642e-05\n",
      " 1.95192095e-06 6.47168225e-06 3.04628244e-06 5.20894047e-02\n",
      " 1.84160236e-04 3.95064168e-05 1.98945743e-01 6.61328093e-04\n",
      " 8.49422949e-04 3.48177661e-06 1.46998043e-04 1.30222054e-07\n",
      " 2.64538971e-04 9.29067504e-04 2.30095749e-04 5.18900818e-05\n",
      " 1.61697989e-04 3.00389407e-04 1.93320300e-06 1.08740909e-03\n",
      " 4.21604414e-04 3.70101175e-06 9.31313792e-06 2.58205550e-03\n",
      " 3.95024699e-05 9.91421701e-05 2.43082496e-04 1.25923655e-04\n",
      " 8.97505799e-10 4.04165091e-04 0.00000000e+00 6.94358254e-04\n",
      " 1.45311409e-04 1.38672523e-03 2.10006450e-04 3.50892282e-05\n",
      " 3.70282997e-04 4.68162919e-04 1.31974741e-05 3.00270616e-04\n",
      " 1.78310111e-04 7.21484077e-04 1.39679403e-04 1.16543405e-04\n",
      " 1.58087598e-04 1.23067445e-03 2.85630391e-03 3.98347337e-04\n",
      " 1.76225075e-05 4.89503055e-04 2.02182910e-01 3.18785721e-04\n",
      " 6.06508039e-05 1.21750170e-04 1.17807780e-04 2.11954990e-04\n",
      " 9.06811099e-04 3.15468664e-05 5.72927507e-04 9.77181608e-04\n",
      " 1.58490920e-03 1.73977995e-03 1.15130484e-04 3.33471111e-06\n",
      " 2.61752905e-01 4.27723157e-04 1.31871948e-04 9.13559876e-05\n",
      " 4.21265907e-04 5.81948246e-04 1.73835082e-05 2.27418250e-04\n",
      " 1.41567204e-05 1.99948082e-03 4.41281176e-04 1.56111946e-03\n",
      " 2.01817614e-04 1.96100085e-04 2.51649669e-03 5.54069828e-05\n",
      " 4.87577674e-04 2.27266683e-05 4.60062339e-07 3.24674433e-04\n",
      " 7.94976090e-04 4.40183378e-04 3.80697858e-05 5.81391272e-04\n",
      " 9.28767926e-04 8.79249349e-04 4.72788179e-04 2.93933218e-04\n",
      " 8.60011788e-02 2.20464507e-05 1.75182027e-04 1.08490087e-03\n",
      " 6.58248797e-04 8.75877602e-03 2.57841113e-05 1.15874971e-04\n",
      " 1.07564549e-05 2.66360171e-03 2.19782644e-06 9.11913124e-05\n",
      " 7.65024849e-05 8.31332385e-04 1.77472179e-04 1.42165816e-05\n",
      " 4.28407918e-04 1.13443078e-05 2.98064458e-02 1.20699520e-05\n",
      " 3.85610698e-06 2.61549465e-04 6.93996740e-05 1.26550750e-04\n",
      " 4.44175546e-05 4.21305920e-05 8.11098481e-04 2.60135301e-04\n",
      " 0.00000000e+00 5.87875807e-05 4.41027810e-04 4.95958506e-04\n",
      " 3.30413428e-05 2.25003581e-04 1.25552504e-03 4.56999313e-06\n",
      " 1.64384585e-04 2.12932723e-04 1.18088625e-03 2.20495205e-04\n",
      " 5.78876922e-06 8.75234879e-04 7.45862022e-04 1.51639070e-06\n",
      " 2.25330331e-04 7.88991790e-04 1.24543021e-04 1.68680680e-03\n",
      " 1.26079492e-03 4.12603951e-04 2.93207876e-06 2.56417698e-04\n",
      " 1.11163705e-06 1.28645672e-03 9.78547295e-04 2.16349727e-05\n",
      " 2.63452620e-05 1.81136248e-04 0.00000000e+00 9.13025989e-05\n",
      " 6.06460196e-04 3.57237689e-05 2.10210628e-04 1.72121723e-04\n",
      " 1.55545960e-06 2.56317051e-07 1.57608080e-04 2.45712932e-03\n",
      " 1.56764129e-04 4.46616105e-04 1.13254774e-04 5.39559842e-04\n",
      " 7.75112673e-08 0.00000000e+00 2.13754879e-03 1.54553169e-04\n",
      " 2.21848020e-03 2.57174744e-03 1.31558942e-04 2.25918309e-04\n",
      " 9.86871873e-04 1.07064670e-04 2.64716001e-06 5.12563008e-04\n",
      " 3.82630698e-03 2.35443804e-04 2.06292713e-03 3.45297501e-04\n",
      " 2.01732535e-03 1.51626215e-04 5.68661106e-04 1.74474641e-04\n",
      " 1.57442724e-04 5.41319443e-04 2.47376016e-05 2.03461230e-04\n",
      " 4.33375546e-04 1.86122350e-04 2.56230290e-04 3.04677901e-05\n",
      " 2.05001203e-04 1.33695947e-03 1.59972110e-03 1.30368948e-04\n",
      " 6.59823378e-05 1.67807458e-04 3.29515944e-04 7.97896255e-04\n",
      " 3.12030093e-03 1.09935825e-04 8.56121220e-05 3.37983969e-04\n",
      " 2.05975241e-05 6.60493978e-06 2.56489986e-05 2.35566411e-05\n",
      " 7.70762293e-04 2.16609065e-04 1.06339666e-04 4.71520805e-07\n",
      " 6.86940625e-04 3.52368291e-04 7.67212008e-04 2.92593570e-05\n",
      " 1.19209774e-04 0.00000000e+00 1.86395060e-04 2.58315752e-03\n",
      " 1.44519126e-04 9.66440912e-04 3.24632255e-04 5.38817462e-05\n",
      " 4.19899473e-04 6.42945695e-04 2.10133957e-04 2.56995504e-03\n",
      " 5.83043524e-04 5.14689897e-06 7.20095803e-06 2.16391275e-04\n",
      " 1.13866724e-04 6.42009494e-06 1.17283374e-03 3.72102223e-04\n",
      " 6.72967486e-06 3.55234764e-06 1.01439073e-03 3.74925006e-05\n",
      " 8.95643749e-07 3.07003241e-04 1.77371208e-04 5.18121085e-05\n",
      " 1.25721237e-04 3.42674355e-03 4.81796435e-05 3.14736551e-04\n",
      " 2.19816875e-05 8.76357694e-05 3.03636662e-04 6.35896046e-04\n",
      " 1.65126697e-04 9.90340048e-05 7.29274191e-05 9.16302596e-05\n",
      " 3.49691473e-05 2.05477151e-04 3.12547372e-05 1.72083466e-07\n",
      " 1.80378520e-03 3.82203622e-04 1.66967447e-04 1.52389821e-03\n",
      " 3.36777182e-06 1.13140141e-04 8.54095139e-05 6.81493728e-04\n",
      " 0.00000000e+00 7.11701272e-04 1.07041096e-03 4.21035834e-05\n",
      " 1.68837278e-05 4.98291756e-04 8.50717528e-05 4.24161563e-04\n",
      " 2.03228987e-06 3.00934901e-04 1.98090203e-04 1.93730801e-04\n",
      " 7.35124196e-04 4.64852758e-05 1.53461256e-05 6.20618817e-04\n",
      " 1.15027325e-03 2.67670630e-03 4.29179739e-08 2.80564066e-05\n",
      " 1.27281383e-03 2.47595064e-03 3.15286528e-05 0.00000000e+00\n",
      " 1.05168743e-05 1.03195337e-03 2.67808419e-05 3.35887089e-04\n",
      " 7.16723774e-05 1.81758691e-04 1.56879030e-04 6.24368861e-04\n",
      " 1.72782599e-04 1.10341076e-04 7.72864898e-05 2.58692292e-04\n",
      " 1.15312326e-03 1.66600851e-04 1.74915636e-05 2.49185273e-04\n",
      " 1.24835420e-04 1.16373032e-03 2.02479659e-04 3.59750349e-05\n",
      " 1.80747078e-04 5.39236678e-04 2.00575388e-04 4.25068228e-04\n",
      " 1.29470827e-05 9.78872261e-07 8.34435446e-05 2.54469973e-04\n",
      " 1.14431343e-04 5.21073152e-05 1.60934197e-05 9.14250337e-06\n",
      " 1.72654233e-04 8.59333917e-04 1.05124230e-05 1.24166013e-06\n",
      " 8.69697594e-05 5.56445374e-04 2.05074622e-05 3.70055272e-04\n",
      " 7.53256948e-05 4.63945175e-04 2.01490001e-06 2.31371734e-04\n",
      " 1.30788097e-03 1.98376449e-03 1.26356108e-03 6.32821049e-04\n",
      " 3.79914032e-04 7.22049669e-04 4.34344655e-09 1.29693046e-05\n",
      " 2.47702972e-05 2.16779961e-06 9.12142016e-04 4.68006454e-06\n",
      " 2.03704399e-04 1.59828866e-04 3.86139980e-05 3.69244999e-04]\n"
     ]
    },
    {
     "data": {
      "image/png": "[encoded data removed]",
      "text/plain": [
       "<Figure size 432x288 with 1 Axes>"
      ]
     },
     "metadata": {
      "needs_background": "light"
     },
     "output_type": "display_data"
    }
   ],
   "source": [
    "from sklearn.ensemble import ExtraTreesRegressor\n",
    "import matplotlib.pyplot as plt\n",
    "model = ExtraTreesRegressor()\n",
    "model.fit(X,y)\n",
    "print(model.feature_importances_) #use inbuilt class feature_importances of tree based classifiers\n",
    "#plot graph of feature importances for better visualization\n",
    "feat_importances = pd.Series(model.feature_importances_, index=X.columns)\n",
    "feat_importances.nlargest(20).plot(kind='barh')\n",
    "plt.show()\n"
   ]
  },
  {
   "cell_type": "code",
   "execution_count": 138,
   "metadata": {},
   "outputs": [],
   "source": [
    "from sklearn.datasets import load_digits\n",
    "from sklearn.feature_selection import SelectKBest, chi2"
   ]
  },
  {
   "cell_type": "code",
   "execution_count": 121,
   "metadata": {},
   "outputs": [
    {
     "data": {
      "text/plain": [
       "(155, 300)"
      ]
     },
     "execution_count": 121,
     "metadata": {},
     "output_type": "execute_result"
    }
   ],
   "source": [
    "X.shape"
   ]
  },
  {
   "cell_type": "code",
   "execution_count": 105,
   "metadata": {},
   "outputs": [
    {
     "data": {
      "text/plain": [
       "(155,)"
      ]
     },
     "execution_count": 105,
     "metadata": {},
     "output_type": "execute_result"
    }
   ],
   "source": [
    "y.shape"
   ]
  },
  {
   "cell_type": "code",
   "execution_count": 140,
   "metadata": {},
   "outputs": [],
   "source": [
    "X=preprocessing.StandardScaler().fit(X).transform(X)\n",
    "X_test=preprocessing.StandardScaler().fit(X_test).transform(X_test)\n"
   ]
  },
  {
   "cell_type": "code",
   "execution_count": 141,
   "metadata": {},
   "outputs": [],
   "source": [
    "X_train = X\n",
    "y_train = y\n",
    "X_test"
   ]
  },
  {
   "cell_type": "code",
   "execution_count": 144,
   "metadata": {},
   "outputs": [],
   "source": [
    "from sklearn.linear_model import LinearRegression\n",
    "from sklearn.metrics import mean_squared_error, r2_score\n",
    "from sklearn.preprocessing import PolynomialFeatures\n"
   ]
  },
  {
   "cell_type": "code",
   "execution_count": 153,
   "metadata": {},
   "outputs": [],
   "source": [
    "from sklearn.ensemble import RandomForestRegressor\n",
    "\n",
    "rnd = RandomForestRegressor(n_estimators=200, max_depth=120, min_samples_leaf=10)\n",
    "rnd.fit(X_train, y_train)\n",
    "yhat=rnd.predict(X_test)\n",
    "\n",
    "#r2_score(y_train,yhat)"
   ]
  }
 ],
 "metadata": {
  "kernelspec": {
   "display_name": "Python 3",
   "language": "python",
   "name": "python3"
  },
  "language_info": {
   "codemirror_mode": {
    "name": "ipython",
    "version": 2
   },
   "file_extension": ".py",
   "mimetype": "text/x-python",
   "name": "python",
   "nbconvert_exporter": "python",
   "pygments_lexer": "ipython2",
   "version": "2.7.15+"
  }
 },
 "nbformat": 4,
 "nbformat_minor": 2
}
